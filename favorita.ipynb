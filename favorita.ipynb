{
 "cells": [
  {
   "cell_type": "code",
   "execution_count": 1,
   "metadata": {},
   "outputs": [
    {
     "name": "stderr",
     "output_type": "stream",
     "text": [
      "C:\\ProgramData\\Anaconda3\\lib\\site-packages\\sklearn\\cross_validation.py:44: DeprecationWarning: This module was deprecated in version 0.18 in favor of the model_selection module into which all the refactored classes and functions are moved. Also note that the interface of the new CV iterators are different from that of this module. This module will be removed in 0.20.\n",
      "  \"This module will be removed in 0.20.\", DeprecationWarning)\n",
      "C:\\ProgramData\\Anaconda3\\lib\\site-packages\\sklearn\\grid_search.py:43: DeprecationWarning: This module was deprecated in version 0.18 in favor of the model_selection module into which all the refactored classes and functions are moved. This module will be removed in 0.20.\n",
      "  DeprecationWarning)\n",
      "C:\\ProgramData\\Anaconda3\\lib\\site-packages\\sklearn\\lda.py:6: DeprecationWarning: lda.LDA has been moved to discriminant_analysis.LinearDiscriminantAnalysis in 0.17 and will be removed in 0.19\n",
      "  \"in 0.17 and will be removed in 0.19\", DeprecationWarning)\n",
      "C:\\ProgramData\\Anaconda3\\lib\\site-packages\\sklearn\\learning_curve.py:23: DeprecationWarning: This module was deprecated in version 0.18 in favor of the model_selection module into which all the functions are moved. This module will be removed in 0.20\n",
      "  DeprecationWarning)\n",
      "C:\\ProgramData\\Anaconda3\\lib\\site-packages\\sklearn\\qda.py:6: DeprecationWarning: qda.QDA has been moved to discriminant_analysis.QuadraticDiscriminantAnalysis in 0.17 and will be removed in 0.19.\n",
      "  \"in 0.17 and will be removed in 0.19.\", DeprecationWarning)\n"
     ]
    }
   ],
   "source": [
    "import sys\n",
    "sys.path.append(\"../kaggle_varie\")\n",
    "%load_ext autoreload\n",
    "%aimport varie\n",
    "%autoreload 2"
   ]
  },
  {
   "cell_type": "code",
   "execution_count": 2,
   "metadata": {},
   "outputs": [
    {
     "name": "stderr",
     "output_type": "stream",
     "text": [
      "C:\\ProgramData\\Anaconda3\\lib\\site-packages\\IPython\\core\\interactiveshell.py:2698: DtypeWarning: Columns (5) have mixed types. Specify dtype option on import or set low_memory=False.\n",
      "  interactivity=interactivity, compiler=compiler, result=result)\n"
     ]
    },
    {
     "name": "stdout",
     "output_type": "stream",
     "text": [
      "ok reading\n",
      "23891287\n",
      "4854129\n"
     ]
    }
   ],
   "source": [
    "#from sklearn import *\n",
    "import pandas as pd\n",
    "import numpy as np\n",
    "#total lines= 125497041\n",
    "\n",
    "df_train = pd.read_csv(\n",
    " #   './input/train_2016.csv', \n",
    "    './input/train_2017.csv', \n",
    "#     './input/train.csv', \n",
    "    #usecols=[1, 2, 3, 4, 5], \n",
    "    names=['id','date','store_nbr','item_nbr','unit_sales','onpromotion'],\n",
    "    dtype={\n",
    "        'onpromotion': np.bool,\n",
    "        \"store_nbr\": \"category\",\n",
    "        \"item_nbr\": \"category\",\n",
    "        },\n",
    "    converters={'unit_sales': lambda u: float(u) if float(u) > 0 else 0},\n",
    "    #skiprows=range(1, 124035460),    \n",
    "   # skiprows=range(1, 125497000), \n",
    "    parse_dates=[\"date\"]  # , date_parser=parser\n",
    "    #skiprows=range(1, 66458909)\n",
    ")\n",
    "\n",
    "print(\"ok reading\")\n",
    "\n",
    "#df_train['date'] = pd.to_datetime(df_train.date, format='%Y-%m-%d')\n",
    "#df_train['date']=df_train['date'].dt.date\n",
    "df_train[\"unit_sales\"] = df_train[\"unit_sales\"].apply(np.log1p)\n",
    "df_train[\"unit_sales\"]=df_train[\"unit_sales\"].astype(\"float32\")\n",
    "df_train['dow'] = df_train['date'].dt.dayofweek\n",
    "print(len(df_train))\n",
    "#initial_date='2016-8-16'\n",
    "#final_date='2016-8-31'\n",
    "initial_date='2017-7-1'\n",
    "final_date='2017-12-31'\n",
    "df_train=df_train[(df_train[\"date\"]>=initial_date)&(df_train[\"date\"]<=final_date)]\n",
    "print(len(df_train))"
   ]
  },
  {
   "cell_type": "markdown",
   "metadata": {},
   "source": [
    "### test"
   ]
  },
  {
   "cell_type": "code",
   "execution_count": 3,
   "metadata": {
    "collapsed": true
   },
   "outputs": [],
   "source": [
    "df_test = pd.read_csv(\n",
    "    \"./input/test.csv\", usecols=[0, 1, 2, 3, 4],\n",
    "    dtype={\n",
    "        'onpromotion': np.bool,\n",
    "        \"store_nbr\": \"category\",\n",
    "        \"item_nbr\": \"category\",\n",
    "        },\n",
    "    parse_dates=[\"date\"]  # , date_parser=parser\n",
    ")\n",
    "#.set_index(\n",
    "#    ['store_nbr', 'item_nbr', 'date']\n",
    "#)\n",
    "\n"
   ]
  },
  {
   "cell_type": "code",
   "execution_count": 4,
   "metadata": {},
   "outputs": [
    {
     "name": "stdout",
     "output_type": "stream",
     "text": [
      "3370464\n"
     ]
    },
    {
     "data": {
      "text/html": [
       "<div>\n",
       "<style>\n",
       "    .dataframe thead tr:only-child th {\n",
       "        text-align: right;\n",
       "    }\n",
       "\n",
       "    .dataframe thead th {\n",
       "        text-align: left;\n",
       "    }\n",
       "\n",
       "    .dataframe tbody tr th {\n",
       "        vertical-align: top;\n",
       "    }\n",
       "</style>\n",
       "<table border=\"1\" class=\"dataframe\">\n",
       "  <thead>\n",
       "    <tr style=\"text-align: right;\">\n",
       "      <th></th>\n",
       "      <th>id</th>\n",
       "      <th>date</th>\n",
       "      <th>store_nbr</th>\n",
       "      <th>item_nbr</th>\n",
       "      <th>onpromotion</th>\n",
       "    </tr>\n",
       "  </thead>\n",
       "  <tbody>\n",
       "    <tr>\n",
       "      <th>0</th>\n",
       "      <td>125497040</td>\n",
       "      <td>2017-08-16</td>\n",
       "      <td>1</td>\n",
       "      <td>96995</td>\n",
       "      <td>False</td>\n",
       "    </tr>\n",
       "    <tr>\n",
       "      <th>1</th>\n",
       "      <td>125497041</td>\n",
       "      <td>2017-08-16</td>\n",
       "      <td>1</td>\n",
       "      <td>99197</td>\n",
       "      <td>False</td>\n",
       "    </tr>\n",
       "    <tr>\n",
       "      <th>2</th>\n",
       "      <td>125497042</td>\n",
       "      <td>2017-08-16</td>\n",
       "      <td>1</td>\n",
       "      <td>103501</td>\n",
       "      <td>False</td>\n",
       "    </tr>\n",
       "    <tr>\n",
       "      <th>3</th>\n",
       "      <td>125497043</td>\n",
       "      <td>2017-08-16</td>\n",
       "      <td>1</td>\n",
       "      <td>103520</td>\n",
       "      <td>False</td>\n",
       "    </tr>\n",
       "    <tr>\n",
       "      <th>4</th>\n",
       "      <td>125497044</td>\n",
       "      <td>2017-08-16</td>\n",
       "      <td>1</td>\n",
       "      <td>103665</td>\n",
       "      <td>False</td>\n",
       "    </tr>\n",
       "  </tbody>\n",
       "</table>\n",
       "</div>"
      ],
      "text/plain": [
       "          id       date store_nbr item_nbr  onpromotion\n",
       "0  125497040 2017-08-16         1    96995        False\n",
       "1  125497041 2017-08-16         1    99197        False\n",
       "2  125497042 2017-08-16         1   103501        False\n",
       "3  125497043 2017-08-16         1   103520        False\n",
       "4  125497044 2017-08-16         1   103665        False"
      ]
     },
     "execution_count": 4,
     "metadata": {},
     "output_type": "execute_result"
    }
   ],
   "source": [
    "print(len(df_test))\n",
    "df_test.head()\n"
   ]
  },
  {
   "cell_type": "code",
   "execution_count": 5,
   "metadata": {},
   "outputs": [
    {
     "name": "stdout",
     "output_type": "stream",
     "text": [
      "2017-08-16T00:00:00.000000000 2017-08-31T00:00:00.000000000 16\n",
      "54 3901\n",
      "3370464 3370464\n"
     ]
    }
   ],
   "source": [
    "dates_test=df_test.date.unique()\n",
    "stores_test=df_test.store_nbr.unique()\n",
    "items_test=df_test.item_nbr.unique()\n",
    "print(dates_test.min(),dates_test.max(),len(dates_test))\n",
    "print(len(stores_test),len(items_test))\n",
    "print(len(dates_test)*len(stores_test)*len(items_test),len(df_test))"
   ]
  },
  {
   "cell_type": "code",
   "execution_count": 6,
   "metadata": {},
   "outputs": [
    {
     "data": {
      "text/plain": [
       "id                      int64\n",
       "date           datetime64[ns]\n",
       "store_nbr            category\n",
       "item_nbr             category\n",
       "onpromotion              bool\n",
       "dtype: object"
      ]
     },
     "execution_count": 6,
     "metadata": {},
     "output_type": "execute_result"
    }
   ],
   "source": [
    "df_test.dtypes"
   ]
  },
  {
   "cell_type": "markdown",
   "metadata": {},
   "source": [
    "### items"
   ]
  },
  {
   "cell_type": "code",
   "execution_count": 7,
   "metadata": {},
   "outputs": [
    {
     "name": "stdout",
     "output_type": "stream",
     "text": [
      "4100\n"
     ]
    },
    {
     "data": {
      "text/html": [
       "<div>\n",
       "<style>\n",
       "    .dataframe thead tr:only-child th {\n",
       "        text-align: right;\n",
       "    }\n",
       "\n",
       "    .dataframe thead th {\n",
       "        text-align: left;\n",
       "    }\n",
       "\n",
       "    .dataframe tbody tr th {\n",
       "        vertical-align: top;\n",
       "    }\n",
       "</style>\n",
       "<table border=\"1\" class=\"dataframe\">\n",
       "  <thead>\n",
       "    <tr style=\"text-align: right;\">\n",
       "      <th></th>\n",
       "      <th>family</th>\n",
       "      <th>class</th>\n",
       "      <th>perishable</th>\n",
       "    </tr>\n",
       "    <tr>\n",
       "      <th>item_nbr</th>\n",
       "      <th></th>\n",
       "      <th></th>\n",
       "      <th></th>\n",
       "    </tr>\n",
       "  </thead>\n",
       "  <tbody>\n",
       "    <tr>\n",
       "      <th>96995</th>\n",
       "      <td>GROCERY I</td>\n",
       "      <td>1093</td>\n",
       "      <td>False</td>\n",
       "    </tr>\n",
       "    <tr>\n",
       "      <th>99197</th>\n",
       "      <td>GROCERY I</td>\n",
       "      <td>1067</td>\n",
       "      <td>False</td>\n",
       "    </tr>\n",
       "    <tr>\n",
       "      <th>103501</th>\n",
       "      <td>CLEANING</td>\n",
       "      <td>3008</td>\n",
       "      <td>False</td>\n",
       "    </tr>\n",
       "    <tr>\n",
       "      <th>103520</th>\n",
       "      <td>GROCERY I</td>\n",
       "      <td>1028</td>\n",
       "      <td>False</td>\n",
       "    </tr>\n",
       "    <tr>\n",
       "      <th>103665</th>\n",
       "      <td>BREAD/BAKERY</td>\n",
       "      <td>2712</td>\n",
       "      <td>True</td>\n",
       "    </tr>\n",
       "  </tbody>\n",
       "</table>\n",
       "</div>"
      ],
      "text/plain": [
       "                family class  perishable\n",
       "item_nbr                                \n",
       "96995        GROCERY I  1093       False\n",
       "99197        GROCERY I  1067       False\n",
       "103501        CLEANING  3008       False\n",
       "103520       GROCERY I  1028       False\n",
       "103665    BREAD/BAKERY  2712        True"
      ]
     },
     "execution_count": 7,
     "metadata": {},
     "output_type": "execute_result"
    }
   ],
   "source": [
    "items = pd.read_csv(\n",
    "    \"./input/items.csv\",    \n",
    "    dtype={\n",
    "        'perishable': np.bool,\n",
    "        \"family\": \"category\",\n",
    "        \"class\": \"category\",\n",
    "        \"item_nbr\": \"category\",\n",
    "\n",
    "        },\n",
    ").set_index(\"item_nbr\")\n",
    "\n",
    "print(len(items))\n",
    "items.head()\n",
    "#items.perishable.value_counts()"
   ]
  },
  {
   "cell_type": "code",
   "execution_count": 8,
   "metadata": {},
   "outputs": [
    {
     "data": {
      "text/html": [
       "<div>\n",
       "<style>\n",
       "    .dataframe thead tr:only-child th {\n",
       "        text-align: right;\n",
       "    }\n",
       "\n",
       "    .dataframe thead th {\n",
       "        text-align: left;\n",
       "    }\n",
       "\n",
       "    .dataframe tbody tr th {\n",
       "        vertical-align: top;\n",
       "    }\n",
       "</style>\n",
       "<table border=\"1\" class=\"dataframe\">\n",
       "  <thead>\n",
       "    <tr style=\"text-align: right;\">\n",
       "      <th></th>\n",
       "      <th>family</th>\n",
       "      <th>class</th>\n",
       "      <th>perishable</th>\n",
       "    </tr>\n",
       "  </thead>\n",
       "  <tbody>\n",
       "    <tr>\n",
       "      <th>count</th>\n",
       "      <td>4100</td>\n",
       "      <td>4100</td>\n",
       "      <td>4100</td>\n",
       "    </tr>\n",
       "    <tr>\n",
       "      <th>unique</th>\n",
       "      <td>33</td>\n",
       "      <td>337</td>\n",
       "      <td>2</td>\n",
       "    </tr>\n",
       "    <tr>\n",
       "      <th>top</th>\n",
       "      <td>GROCERY I</td>\n",
       "      <td>1016</td>\n",
       "      <td>False</td>\n",
       "    </tr>\n",
       "    <tr>\n",
       "      <th>freq</th>\n",
       "      <td>1334</td>\n",
       "      <td>133</td>\n",
       "      <td>3114</td>\n",
       "    </tr>\n",
       "  </tbody>\n",
       "</table>\n",
       "</div>"
      ],
      "text/plain": [
       "           family class perishable\n",
       "count        4100  4100       4100\n",
       "unique         33   337          2\n",
       "top     GROCERY I  1016      False\n",
       "freq         1334   133       3114"
      ]
     },
     "execution_count": 8,
     "metadata": {},
     "output_type": "execute_result"
    }
   ],
   "source": [
    "items.describe(include=\"all\")"
   ]
  },
  {
   "cell_type": "code",
   "execution_count": 9,
   "metadata": {},
   "outputs": [
    {
     "data": {
      "text/plain": [
       "family        category\n",
       "class         category\n",
       "perishable        bool\n",
       "dtype: object"
      ]
     },
     "execution_count": 9,
     "metadata": {},
     "output_type": "execute_result"
    }
   ],
   "source": [
    "items.dtypes"
   ]
  },
  {
   "cell_type": "markdown",
   "metadata": {},
   "source": [
    "### stores"
   ]
  },
  {
   "cell_type": "code",
   "execution_count": 10,
   "metadata": {},
   "outputs": [
    {
     "name": "stdout",
     "output_type": "stream",
     "text": [
      "54\n"
     ]
    },
    {
     "data": {
      "text/html": [
       "<div>\n",
       "<style>\n",
       "    .dataframe thead tr:only-child th {\n",
       "        text-align: right;\n",
       "    }\n",
       "\n",
       "    .dataframe thead th {\n",
       "        text-align: left;\n",
       "    }\n",
       "\n",
       "    .dataframe tbody tr th {\n",
       "        vertical-align: top;\n",
       "    }\n",
       "</style>\n",
       "<table border=\"1\" class=\"dataframe\">\n",
       "  <thead>\n",
       "    <tr style=\"text-align: right;\">\n",
       "      <th></th>\n",
       "      <th>city</th>\n",
       "      <th>state</th>\n",
       "      <th>type</th>\n",
       "      <th>cluster</th>\n",
       "    </tr>\n",
       "    <tr>\n",
       "      <th>store_nbr</th>\n",
       "      <th></th>\n",
       "      <th></th>\n",
       "      <th></th>\n",
       "      <th></th>\n",
       "    </tr>\n",
       "  </thead>\n",
       "  <tbody>\n",
       "    <tr>\n",
       "      <th>1</th>\n",
       "      <td>Quito</td>\n",
       "      <td>Pichincha</td>\n",
       "      <td>D</td>\n",
       "      <td>13</td>\n",
       "    </tr>\n",
       "    <tr>\n",
       "      <th>2</th>\n",
       "      <td>Quito</td>\n",
       "      <td>Pichincha</td>\n",
       "      <td>D</td>\n",
       "      <td>13</td>\n",
       "    </tr>\n",
       "    <tr>\n",
       "      <th>3</th>\n",
       "      <td>Quito</td>\n",
       "      <td>Pichincha</td>\n",
       "      <td>D</td>\n",
       "      <td>8</td>\n",
       "    </tr>\n",
       "    <tr>\n",
       "      <th>4</th>\n",
       "      <td>Quito</td>\n",
       "      <td>Pichincha</td>\n",
       "      <td>D</td>\n",
       "      <td>9</td>\n",
       "    </tr>\n",
       "    <tr>\n",
       "      <th>5</th>\n",
       "      <td>Santo Domingo</td>\n",
       "      <td>Santo Domingo de los Tsachilas</td>\n",
       "      <td>D</td>\n",
       "      <td>4</td>\n",
       "    </tr>\n",
       "  </tbody>\n",
       "</table>\n",
       "</div>"
      ],
      "text/plain": [
       "                    city                           state type cluster\n",
       "store_nbr                                                            \n",
       "1                  Quito                       Pichincha    D      13\n",
       "2                  Quito                       Pichincha    D      13\n",
       "3                  Quito                       Pichincha    D       8\n",
       "4                  Quito                       Pichincha    D       9\n",
       "5          Santo Domingo  Santo Domingo de los Tsachilas    D       4"
      ]
     },
     "execution_count": 10,
     "metadata": {},
     "output_type": "execute_result"
    }
   ],
   "source": [
    "stores = pd.read_csv(\n",
    "    \"./input/stores.csv\",    \n",
    "    dtype={\n",
    "        \"store_nbr\": \"category\",\n",
    "        \"city\": \"category\",\n",
    "        \"state\": \"category\",\n",
    "        \"type\": \"category\",\n",
    "        \"cluster\": \"category\",\n",
    "        },\n",
    ").set_index(\"store_nbr\")\n",
    "\n",
    "print(len(stores))\n",
    "stores.head()\n",
    "#items.perishable.value_counts()"
   ]
  },
  {
   "cell_type": "code",
   "execution_count": 11,
   "metadata": {},
   "outputs": [
    {
     "data": {
      "text/plain": [
       "(22, 16, 5, 17)"
      ]
     },
     "execution_count": 11,
     "metadata": {},
     "output_type": "execute_result"
    }
   ],
   "source": [
    "len(stores.city.unique()),len(stores.state.unique()),len(stores.type.unique()),len(stores.cluster.unique())"
   ]
  },
  {
   "cell_type": "code",
   "execution_count": 12,
   "metadata": {},
   "outputs": [
    {
     "data": {
      "text/plain": [
       "city       category\n",
       "state      category\n",
       "type       category\n",
       "cluster    category\n",
       "dtype: object"
      ]
     },
     "execution_count": 12,
     "metadata": {},
     "output_type": "execute_result"
    }
   ],
   "source": [
    "stores.dtypes"
   ]
  },
  {
   "cell_type": "markdown",
   "metadata": {},
   "source": [
    "### oil"
   ]
  },
  {
   "cell_type": "code",
   "execution_count": 13,
   "metadata": {
    "collapsed": true
   },
   "outputs": [],
   "source": [
    " oil = pd.read_csv(\n",
    "    \"./input/oil.csv\", \n",
    "     parse_dates=[\"date\"]   \n",
    ").set_index(\"date\")"
   ]
  },
  {
   "cell_type": "code",
   "execution_count": 14,
   "metadata": {},
   "outputs": [
    {
     "name": "stdout",
     "output_type": "stream",
     "text": [
      "1218\n"
     ]
    },
    {
     "data": {
      "text/html": [
       "<div>\n",
       "<style>\n",
       "    .dataframe thead tr:only-child th {\n",
       "        text-align: right;\n",
       "    }\n",
       "\n",
       "    .dataframe thead th {\n",
       "        text-align: left;\n",
       "    }\n",
       "\n",
       "    .dataframe tbody tr th {\n",
       "        vertical-align: top;\n",
       "    }\n",
       "</style>\n",
       "<table border=\"1\" class=\"dataframe\">\n",
       "  <thead>\n",
       "    <tr style=\"text-align: right;\">\n",
       "      <th></th>\n",
       "      <th>dcoilwtico</th>\n",
       "    </tr>\n",
       "    <tr>\n",
       "      <th>date</th>\n",
       "      <th></th>\n",
       "    </tr>\n",
       "  </thead>\n",
       "  <tbody>\n",
       "    <tr>\n",
       "      <th>2013-01-01</th>\n",
       "      <td>NaN</td>\n",
       "    </tr>\n",
       "    <tr>\n",
       "      <th>2013-01-02</th>\n",
       "      <td>93.14</td>\n",
       "    </tr>\n",
       "    <tr>\n",
       "      <th>2013-01-03</th>\n",
       "      <td>92.97</td>\n",
       "    </tr>\n",
       "    <tr>\n",
       "      <th>2013-01-04</th>\n",
       "      <td>93.12</td>\n",
       "    </tr>\n",
       "    <tr>\n",
       "      <th>2013-01-07</th>\n",
       "      <td>93.20</td>\n",
       "    </tr>\n",
       "  </tbody>\n",
       "</table>\n",
       "</div>"
      ],
      "text/plain": [
       "            dcoilwtico\n",
       "date                  \n",
       "2013-01-01         NaN\n",
       "2013-01-02       93.14\n",
       "2013-01-03       92.97\n",
       "2013-01-04       93.12\n",
       "2013-01-07       93.20"
      ]
     },
     "execution_count": 14,
     "metadata": {},
     "output_type": "execute_result"
    }
   ],
   "source": [
    "print(len(oil))\n",
    "oil.head()"
   ]
  },
  {
   "cell_type": "code",
   "execution_count": 15,
   "metadata": {},
   "outputs": [
    {
     "data": {
      "text/html": [
       "<div>\n",
       "<style>\n",
       "    .dataframe thead tr:only-child th {\n",
       "        text-align: right;\n",
       "    }\n",
       "\n",
       "    .dataframe thead th {\n",
       "        text-align: left;\n",
       "    }\n",
       "\n",
       "    .dataframe tbody tr th {\n",
       "        vertical-align: top;\n",
       "    }\n",
       "</style>\n",
       "<table border=\"1\" class=\"dataframe\">\n",
       "  <thead>\n",
       "    <tr style=\"text-align: right;\">\n",
       "      <th></th>\n",
       "      <th>dcoilwtico</th>\n",
       "    </tr>\n",
       "    <tr>\n",
       "      <th>date</th>\n",
       "      <th></th>\n",
       "    </tr>\n",
       "  </thead>\n",
       "  <tbody>\n",
       "    <tr>\n",
       "      <th>2017-08-25</th>\n",
       "      <td>47.65</td>\n",
       "    </tr>\n",
       "    <tr>\n",
       "      <th>2017-08-28</th>\n",
       "      <td>46.40</td>\n",
       "    </tr>\n",
       "    <tr>\n",
       "      <th>2017-08-29</th>\n",
       "      <td>46.46</td>\n",
       "    </tr>\n",
       "    <tr>\n",
       "      <th>2017-08-30</th>\n",
       "      <td>45.96</td>\n",
       "    </tr>\n",
       "    <tr>\n",
       "      <th>2017-08-31</th>\n",
       "      <td>47.26</td>\n",
       "    </tr>\n",
       "  </tbody>\n",
       "</table>\n",
       "</div>"
      ],
      "text/plain": [
       "            dcoilwtico\n",
       "date                  \n",
       "2017-08-25       47.65\n",
       "2017-08-28       46.40\n",
       "2017-08-29       46.46\n",
       "2017-08-30       45.96\n",
       "2017-08-31       47.26"
      ]
     },
     "execution_count": 15,
     "metadata": {},
     "output_type": "execute_result"
    }
   ],
   "source": [
    "oil.tail()"
   ]
  },
  {
   "cell_type": "code",
   "execution_count": 16,
   "metadata": {
    "collapsed": true
   },
   "outputs": [],
   "source": [
    "oil=oil.ffill().bfill()"
   ]
  },
  {
   "cell_type": "code",
   "execution_count": 17,
   "metadata": {},
   "outputs": [
    {
     "data": {
      "text/html": [
       "<div>\n",
       "<style>\n",
       "    .dataframe thead tr:only-child th {\n",
       "        text-align: right;\n",
       "    }\n",
       "\n",
       "    .dataframe thead th {\n",
       "        text-align: left;\n",
       "    }\n",
       "\n",
       "    .dataframe tbody tr th {\n",
       "        vertical-align: top;\n",
       "    }\n",
       "</style>\n",
       "<table border=\"1\" class=\"dataframe\">\n",
       "  <thead>\n",
       "    <tr style=\"text-align: right;\">\n",
       "      <th></th>\n",
       "      <th>dcoilwtico</th>\n",
       "    </tr>\n",
       "    <tr>\n",
       "      <th>date</th>\n",
       "      <th></th>\n",
       "    </tr>\n",
       "  </thead>\n",
       "  <tbody>\n",
       "    <tr>\n",
       "      <th>2013-01-01</th>\n",
       "      <td>93.14</td>\n",
       "    </tr>\n",
       "    <tr>\n",
       "      <th>2013-01-02</th>\n",
       "      <td>93.14</td>\n",
       "    </tr>\n",
       "    <tr>\n",
       "      <th>2013-01-03</th>\n",
       "      <td>92.97</td>\n",
       "    </tr>\n",
       "    <tr>\n",
       "      <th>2013-01-04</th>\n",
       "      <td>93.12</td>\n",
       "    </tr>\n",
       "    <tr>\n",
       "      <th>2013-01-07</th>\n",
       "      <td>93.20</td>\n",
       "    </tr>\n",
       "  </tbody>\n",
       "</table>\n",
       "</div>"
      ],
      "text/plain": [
       "            dcoilwtico\n",
       "date                  \n",
       "2013-01-01       93.14\n",
       "2013-01-02       93.14\n",
       "2013-01-03       92.97\n",
       "2013-01-04       93.12\n",
       "2013-01-07       93.20"
      ]
     },
     "execution_count": 17,
     "metadata": {},
     "output_type": "execute_result"
    }
   ],
   "source": [
    "oil.head()"
   ]
  },
  {
   "cell_type": "code",
   "execution_count": 18,
   "metadata": {},
   "outputs": [
    {
     "data": {
      "text/plain": [
       "<matplotlib.axes._subplots.AxesSubplot at 0x1df80a6f3c8>"
      ]
     },
     "execution_count": 18,
     "metadata": {},
     "output_type": "execute_result"
    },
    {
     "data": {
      "image/png": "[encoded data removed]",
      "text/plain": [
       "<matplotlib.figure.Figure at 0x1dffb3ba710>"
      ]
     },
     "metadata": {},
     "output_type": "display_data"
    }
   ],
   "source": [
    "%matplotlib inline\n",
    "oil.plot()"
   ]
  },
  {
   "cell_type": "markdown",
   "metadata": {},
   "source": [
    "### transactions"
   ]
  },
  {
   "cell_type": "code",
   "execution_count": 19,
   "metadata": {
    "collapsed": true
   },
   "outputs": [],
   "source": [
    "transactions = pd.read_csv(\n",
    "    \"./input/transactions.csv\",\n",
    "    dtype={\n",
    "        \"store_nbr\": \"category\",\n",
    "        },\n",
    "    parse_dates=[\"date\"]  # , date_parser=parser\n",
    ")"
   ]
  },
  {
   "cell_type": "code",
   "execution_count": 20,
   "metadata": {},
   "outputs": [
    {
     "data": {
      "text/html": [
       "<div>\n",
       "<style>\n",
       "    .dataframe thead tr:only-child th {\n",
       "        text-align: right;\n",
       "    }\n",
       "\n",
       "    .dataframe thead th {\n",
       "        text-align: left;\n",
       "    }\n",
       "\n",
       "    .dataframe tbody tr th {\n",
       "        vertical-align: top;\n",
       "    }\n",
       "</style>\n",
       "<table border=\"1\" class=\"dataframe\">\n",
       "  <thead>\n",
       "    <tr style=\"text-align: right;\">\n",
       "      <th></th>\n",
       "      <th>date</th>\n",
       "      <th>store_nbr</th>\n",
       "      <th>transactions</th>\n",
       "    </tr>\n",
       "  </thead>\n",
       "  <tbody>\n",
       "    <tr>\n",
       "      <th>0</th>\n",
       "      <td>2013-01-01</td>\n",
       "      <td>25</td>\n",
       "      <td>770</td>\n",
       "    </tr>\n",
       "    <tr>\n",
       "      <th>1</th>\n",
       "      <td>2013-01-02</td>\n",
       "      <td>1</td>\n",
       "      <td>2111</td>\n",
       "    </tr>\n",
       "    <tr>\n",
       "      <th>2</th>\n",
       "      <td>2013-01-02</td>\n",
       "      <td>2</td>\n",
       "      <td>2358</td>\n",
       "    </tr>\n",
       "    <tr>\n",
       "      <th>3</th>\n",
       "      <td>2013-01-02</td>\n",
       "      <td>3</td>\n",
       "      <td>3487</td>\n",
       "    </tr>\n",
       "    <tr>\n",
       "      <th>4</th>\n",
       "      <td>2013-01-02</td>\n",
       "      <td>4</td>\n",
       "      <td>1922</td>\n",
       "    </tr>\n",
       "  </tbody>\n",
       "</table>\n",
       "</div>"
      ],
      "text/plain": [
       "        date store_nbr  transactions\n",
       "0 2013-01-01        25           770\n",
       "1 2013-01-02         1          2111\n",
       "2 2013-01-02         2          2358\n",
       "3 2013-01-02         3          3487\n",
       "4 2013-01-02         4          1922"
      ]
     },
     "execution_count": 20,
     "metadata": {},
     "output_type": "execute_result"
    }
   ],
   "source": [
    "transactions.head()"
   ]
  },
  {
   "cell_type": "markdown",
   "metadata": {},
   "source": [
    "### holidays"
   ]
  },
  {
   "cell_type": "code",
   "execution_count": 21,
   "metadata": {
    "collapsed": true
   },
   "outputs": [],
   "source": [
    "holidays = pd.read_csv(\n",
    "    \"./input/holidays_events.csv\",\n",
    "    dtype={\n",
    "        \"type\": \"category\",\n",
    "        \"locale\": \"category\",\n",
    "        \"locale_name\": \"category\",\n",
    "        \"description\": \"category\",\n",
    "        \"transferred\":np.bool,\n",
    "        },\n",
    "    parse_dates=[\"date\"]  # , date_parser=parser\n",
    ")"
   ]
  },
  {
   "cell_type": "code",
   "execution_count": 22,
   "metadata": {},
   "outputs": [
    {
     "data": {
      "text/html": [
       "<div>\n",
       "<style>\n",
       "    .dataframe thead tr:only-child th {\n",
       "        text-align: right;\n",
       "    }\n",
       "\n",
       "    .dataframe thead th {\n",
       "        text-align: left;\n",
       "    }\n",
       "\n",
       "    .dataframe tbody tr th {\n",
       "        vertical-align: top;\n",
       "    }\n",
       "</style>\n",
       "<table border=\"1\" class=\"dataframe\">\n",
       "  <thead>\n",
       "    <tr style=\"text-align: right;\">\n",
       "      <th></th>\n",
       "      <th>date</th>\n",
       "      <th>type</th>\n",
       "      <th>locale</th>\n",
       "      <th>locale_name</th>\n",
       "      <th>description</th>\n",
       "      <th>transferred</th>\n",
       "    </tr>\n",
       "  </thead>\n",
       "  <tbody>\n",
       "    <tr>\n",
       "      <th>0</th>\n",
       "      <td>2012-03-02</td>\n",
       "      <td>Holiday</td>\n",
       "      <td>Local</td>\n",
       "      <td>Manta</td>\n",
       "      <td>Fundacion de Manta</td>\n",
       "      <td>False</td>\n",
       "    </tr>\n",
       "    <tr>\n",
       "      <th>1</th>\n",
       "      <td>2012-04-01</td>\n",
       "      <td>Holiday</td>\n",
       "      <td>Regional</td>\n",
       "      <td>Cotopaxi</td>\n",
       "      <td>Provincializacion de Cotopaxi</td>\n",
       "      <td>False</td>\n",
       "    </tr>\n",
       "    <tr>\n",
       "      <th>2</th>\n",
       "      <td>2012-04-12</td>\n",
       "      <td>Holiday</td>\n",
       "      <td>Local</td>\n",
       "      <td>Cuenca</td>\n",
       "      <td>Fundacion de Cuenca</td>\n",
       "      <td>False</td>\n",
       "    </tr>\n",
       "    <tr>\n",
       "      <th>3</th>\n",
       "      <td>2012-04-14</td>\n",
       "      <td>Holiday</td>\n",
       "      <td>Local</td>\n",
       "      <td>Libertad</td>\n",
       "      <td>Cantonizacion de Libertad</td>\n",
       "      <td>False</td>\n",
       "    </tr>\n",
       "    <tr>\n",
       "      <th>4</th>\n",
       "      <td>2012-04-21</td>\n",
       "      <td>Holiday</td>\n",
       "      <td>Local</td>\n",
       "      <td>Riobamba</td>\n",
       "      <td>Cantonizacion de Riobamba</td>\n",
       "      <td>False</td>\n",
       "    </tr>\n",
       "  </tbody>\n",
       "</table>\n",
       "</div>"
      ],
      "text/plain": [
       "        date     type    locale locale_name                    description  \\\n",
       "0 2012-03-02  Holiday     Local       Manta             Fundacion de Manta   \n",
       "1 2012-04-01  Holiday  Regional    Cotopaxi  Provincializacion de Cotopaxi   \n",
       "2 2012-04-12  Holiday     Local      Cuenca            Fundacion de Cuenca   \n",
       "3 2012-04-14  Holiday     Local    Libertad      Cantonizacion de Libertad   \n",
       "4 2012-04-21  Holiday     Local    Riobamba      Cantonizacion de Riobamba   \n",
       "\n",
       "   transferred  \n",
       "0        False  \n",
       "1        False  \n",
       "2        False  \n",
       "3        False  \n",
       "4        False  "
      ]
     },
     "execution_count": 22,
     "metadata": {},
     "output_type": "execute_result"
    }
   ],
   "source": [
    "holidays.head()"
   ]
  },
  {
   "cell_type": "code",
   "execution_count": 23,
   "metadata": {},
   "outputs": [
    {
     "data": {
      "text/plain": [
       "[Manta, Cotopaxi, Cuenca, Libertad, Riobamba, ..., Santa Elena, Quito, Loja, Salinas, Guayaquil]\n",
       "Length: 24\n",
       "Categories (24, object): [Manta, Cotopaxi, Cuenca, Libertad, ..., Quito, Loja, Salinas, Guayaquil]"
      ]
     },
     "execution_count": 23,
     "metadata": {},
     "output_type": "execute_result"
    }
   ],
   "source": [
    "holidays.locale_name.unique()"
   ]
  },
  {
   "cell_type": "code",
   "execution_count": 24,
   "metadata": {},
   "outputs": [
    {
     "data": {
      "text/html": [
       "<div>\n",
       "<style>\n",
       "    .dataframe thead tr:only-child th {\n",
       "        text-align: right;\n",
       "    }\n",
       "\n",
       "    .dataframe thead th {\n",
       "        text-align: left;\n",
       "    }\n",
       "\n",
       "    .dataframe tbody tr th {\n",
       "        vertical-align: top;\n",
       "    }\n",
       "</style>\n",
       "<table border=\"1\" class=\"dataframe\">\n",
       "  <thead>\n",
       "    <tr style=\"text-align: right;\">\n",
       "      <th></th>\n",
       "      <th>date</th>\n",
       "      <th>type</th>\n",
       "      <th>locale</th>\n",
       "      <th>locale_name</th>\n",
       "      <th>description</th>\n",
       "      <th>transferred</th>\n",
       "    </tr>\n",
       "  </thead>\n",
       "  <tbody>\n",
       "    <tr>\n",
       "      <th>345</th>\n",
       "      <td>2017-12-22</td>\n",
       "      <td>Additional</td>\n",
       "      <td>National</td>\n",
       "      <td>Ecuador</td>\n",
       "      <td>Navidad-3</td>\n",
       "      <td>False</td>\n",
       "    </tr>\n",
       "    <tr>\n",
       "      <th>346</th>\n",
       "      <td>2017-12-23</td>\n",
       "      <td>Additional</td>\n",
       "      <td>National</td>\n",
       "      <td>Ecuador</td>\n",
       "      <td>Navidad-2</td>\n",
       "      <td>False</td>\n",
       "    </tr>\n",
       "    <tr>\n",
       "      <th>347</th>\n",
       "      <td>2017-12-24</td>\n",
       "      <td>Additional</td>\n",
       "      <td>National</td>\n",
       "      <td>Ecuador</td>\n",
       "      <td>Navidad-1</td>\n",
       "      <td>False</td>\n",
       "    </tr>\n",
       "    <tr>\n",
       "      <th>348</th>\n",
       "      <td>2017-12-25</td>\n",
       "      <td>Holiday</td>\n",
       "      <td>National</td>\n",
       "      <td>Ecuador</td>\n",
       "      <td>Navidad</td>\n",
       "      <td>False</td>\n",
       "    </tr>\n",
       "    <tr>\n",
       "      <th>349</th>\n",
       "      <td>2017-12-26</td>\n",
       "      <td>Additional</td>\n",
       "      <td>National</td>\n",
       "      <td>Ecuador</td>\n",
       "      <td>Navidad+1</td>\n",
       "      <td>False</td>\n",
       "    </tr>\n",
       "  </tbody>\n",
       "</table>\n",
       "</div>"
      ],
      "text/plain": [
       "          date        type    locale locale_name description  transferred\n",
       "345 2017-12-22  Additional  National     Ecuador   Navidad-3        False\n",
       "346 2017-12-23  Additional  National     Ecuador   Navidad-2        False\n",
       "347 2017-12-24  Additional  National     Ecuador   Navidad-1        False\n",
       "348 2017-12-25     Holiday  National     Ecuador     Navidad        False\n",
       "349 2017-12-26  Additional  National     Ecuador   Navidad+1        False"
      ]
     },
     "execution_count": 24,
     "metadata": {},
     "output_type": "execute_result"
    }
   ],
   "source": [
    "holidays.tail()"
   ]
  },
  {
   "cell_type": "markdown",
   "metadata": {},
   "source": [
    "### train"
   ]
  },
  {
   "cell_type": "code",
   "execution_count": 25,
   "metadata": {},
   "outputs": [
    {
     "data": {
      "text/html": [
       "<div>\n",
       "<style>\n",
       "    .dataframe thead tr:only-child th {\n",
       "        text-align: right;\n",
       "    }\n",
       "\n",
       "    .dataframe thead th {\n",
       "        text-align: left;\n",
       "    }\n",
       "\n",
       "    .dataframe tbody tr th {\n",
       "        vertical-align: top;\n",
       "    }\n",
       "</style>\n",
       "<table border=\"1\" class=\"dataframe\">\n",
       "  <thead>\n",
       "    <tr style=\"text-align: right;\">\n",
       "      <th></th>\n",
       "      <th>id</th>\n",
       "      <th>date</th>\n",
       "      <th>store_nbr</th>\n",
       "      <th>item_nbr</th>\n",
       "      <th>unit_sales</th>\n",
       "      <th>onpromotion</th>\n",
       "      <th>dow</th>\n",
       "    </tr>\n",
       "  </thead>\n",
       "  <tbody>\n",
       "    <tr>\n",
       "      <th>19037158</th>\n",
       "      <td>120642911</td>\n",
       "      <td>2017-07-01</td>\n",
       "      <td>1</td>\n",
       "      <td>99197</td>\n",
       "      <td>1.098612</td>\n",
       "      <td>False</td>\n",
       "      <td>5</td>\n",
       "    </tr>\n",
       "    <tr>\n",
       "      <th>19037159</th>\n",
       "      <td>120642912</td>\n",
       "      <td>2017-07-01</td>\n",
       "      <td>1</td>\n",
       "      <td>103520</td>\n",
       "      <td>1.098612</td>\n",
       "      <td>False</td>\n",
       "      <td>5</td>\n",
       "    </tr>\n",
       "    <tr>\n",
       "      <th>19037160</th>\n",
       "      <td>120642913</td>\n",
       "      <td>2017-07-01</td>\n",
       "      <td>1</td>\n",
       "      <td>103665</td>\n",
       "      <td>2.484907</td>\n",
       "      <td>False</td>\n",
       "      <td>5</td>\n",
       "    </tr>\n",
       "    <tr>\n",
       "      <th>19037161</th>\n",
       "      <td>120642914</td>\n",
       "      <td>2017-07-01</td>\n",
       "      <td>1</td>\n",
       "      <td>105574</td>\n",
       "      <td>1.098612</td>\n",
       "      <td>False</td>\n",
       "      <td>5</td>\n",
       "    </tr>\n",
       "    <tr>\n",
       "      <th>19037162</th>\n",
       "      <td>120642915</td>\n",
       "      <td>2017-07-01</td>\n",
       "      <td>1</td>\n",
       "      <td>105575</td>\n",
       "      <td>1.386294</td>\n",
       "      <td>False</td>\n",
       "      <td>5</td>\n",
       "    </tr>\n",
       "  </tbody>\n",
       "</table>\n",
       "</div>"
      ],
      "text/plain": [
       "                 id       date store_nbr item_nbr  unit_sales onpromotion  dow\n",
       "19037158  120642911 2017-07-01         1    99197    1.098612       False    5\n",
       "19037159  120642912 2017-07-01         1   103520    1.098612       False    5\n",
       "19037160  120642913 2017-07-01         1   103665    2.484907       False    5\n",
       "19037161  120642914 2017-07-01         1   105574    1.098612       False    5\n",
       "19037162  120642915 2017-07-01         1   105575    1.386294       False    5"
      ]
     },
     "execution_count": 25,
     "metadata": {},
     "output_type": "execute_result"
    }
   ],
   "source": [
    "df_train.head()"
   ]
  },
  {
   "cell_type": "code",
   "execution_count": 26,
   "metadata": {},
   "outputs": [
    {
     "data": {
      "text/plain": [
       "331.25611686706543"
      ]
     },
     "execution_count": 26,
     "metadata": {},
     "output_type": "execute_result"
    }
   ],
   "source": [
    "import sys\n",
    "sys.getsizeof(df_train)/1024/1024"
   ]
  },
  {
   "cell_type": "code",
   "execution_count": 27,
   "metadata": {},
   "outputs": [
    {
     "name": "stdout",
     "output_type": "stream",
     "text": [
      "3889 4100\n",
      "54 54\n"
     ]
    }
   ],
   "source": [
    "print(len(df_train.item_nbr.unique()),len(items))\n",
    "print(len(df_train.store_nbr.unique()),len(stores))"
   ]
  },
  {
   "cell_type": "code",
   "execution_count": 28,
   "metadata": {},
   "outputs": [
    {
     "data": {
      "text/plain": [
       "id                      int64\n",
       "date           datetime64[ns]\n",
       "store_nbr            category\n",
       "item_nbr             category\n",
       "unit_sales            float32\n",
       "onpromotion            object\n",
       "dow                     int64\n",
       "dtype: object"
      ]
     },
     "execution_count": 28,
     "metadata": {},
     "output_type": "execute_result"
    }
   ],
   "source": [
    "df_train.dtypes"
   ]
  },
  {
   "cell_type": "code",
   "execution_count": 29,
   "metadata": {},
   "outputs": [
    {
     "data": {
      "text/plain": [
       "False    4284723\n",
       "True      569406\n",
       "Name: onpromotion, dtype: int64"
      ]
     },
     "execution_count": 29,
     "metadata": {},
     "output_type": "execute_result"
    }
   ],
   "source": [
    "df_train.onpromotion.value_counts()"
   ]
  },
  {
   "cell_type": "code",
   "execution_count": 30,
   "metadata": {},
   "outputs": [
    {
     "data": {
      "text/html": [
       "<div>\n",
       "<style>\n",
       "    .dataframe thead tr:only-child th {\n",
       "        text-align: right;\n",
       "    }\n",
       "\n",
       "    .dataframe thead th {\n",
       "        text-align: left;\n",
       "    }\n",
       "\n",
       "    .dataframe tbody tr th {\n",
       "        vertical-align: top;\n",
       "    }\n",
       "</style>\n",
       "<table border=\"1\" class=\"dataframe\">\n",
       "  <thead>\n",
       "    <tr style=\"text-align: right;\">\n",
       "      <th></th>\n",
       "      <th>id</th>\n",
       "      <th>date</th>\n",
       "      <th>store_nbr</th>\n",
       "      <th>item_nbr</th>\n",
       "      <th>unit_sales</th>\n",
       "      <th>onpromotion</th>\n",
       "      <th>dow</th>\n",
       "    </tr>\n",
       "  </thead>\n",
       "  <tbody>\n",
       "    <tr>\n",
       "      <th>count</th>\n",
       "      <td>4.854129e+06</td>\n",
       "      <td>4854129</td>\n",
       "      <td>4854129</td>\n",
       "      <td>4854129</td>\n",
       "      <td>4.854129e+06</td>\n",
       "      <td>4854129</td>\n",
       "      <td>4.854129e+06</td>\n",
       "    </tr>\n",
       "    <tr>\n",
       "      <th>unique</th>\n",
       "      <td>NaN</td>\n",
       "      <td>46</td>\n",
       "      <td>54</td>\n",
       "      <td>3889</td>\n",
       "      <td>NaN</td>\n",
       "      <td>2</td>\n",
       "      <td>NaN</td>\n",
       "    </tr>\n",
       "    <tr>\n",
       "      <th>top</th>\n",
       "      <td>NaN</td>\n",
       "      <td>2017-07-01 00:00:00</td>\n",
       "      <td>44</td>\n",
       "      <td>2042947</td>\n",
       "      <td>NaN</td>\n",
       "      <td>False</td>\n",
       "      <td>NaN</td>\n",
       "    </tr>\n",
       "    <tr>\n",
       "      <th>freq</th>\n",
       "      <td>NaN</td>\n",
       "      <td>118194</td>\n",
       "      <td>128578</td>\n",
       "      <td>2479</td>\n",
       "      <td>NaN</td>\n",
       "      <td>4284723</td>\n",
       "      <td>NaN</td>\n",
       "    </tr>\n",
       "    <tr>\n",
       "      <th>first</th>\n",
       "      <td>NaN</td>\n",
       "      <td>2017-07-01 00:00:00</td>\n",
       "      <td>NaN</td>\n",
       "      <td>NaN</td>\n",
       "      <td>NaN</td>\n",
       "      <td>NaN</td>\n",
       "      <td>NaN</td>\n",
       "    </tr>\n",
       "    <tr>\n",
       "      <th>last</th>\n",
       "      <td>NaN</td>\n",
       "      <td>2017-08-15 00:00:00</td>\n",
       "      <td>NaN</td>\n",
       "      <td>NaN</td>\n",
       "      <td>NaN</td>\n",
       "      <td>NaN</td>\n",
       "      <td>NaN</td>\n",
       "    </tr>\n",
       "    <tr>\n",
       "      <th>mean</th>\n",
       "      <td>1.230700e+08</td>\n",
       "      <td>NaN</td>\n",
       "      <td>NaN</td>\n",
       "      <td>NaN</td>\n",
       "      <td>1.678138e+00</td>\n",
       "      <td>NaN</td>\n",
       "      <td>3.050419e+00</td>\n",
       "    </tr>\n",
       "    <tr>\n",
       "      <th>std</th>\n",
       "      <td>1.401266e+06</td>\n",
       "      <td>NaN</td>\n",
       "      <td>NaN</td>\n",
       "      <td>NaN</td>\n",
       "      <td>8.679605e-01</td>\n",
       "      <td>NaN</td>\n",
       "      <td>2.074317e+00</td>\n",
       "    </tr>\n",
       "    <tr>\n",
       "      <th>min</th>\n",
       "      <td>1.206429e+08</td>\n",
       "      <td>NaN</td>\n",
       "      <td>NaN</td>\n",
       "      <td>NaN</td>\n",
       "      <td>0.000000e+00</td>\n",
       "      <td>NaN</td>\n",
       "      <td>0.000000e+00</td>\n",
       "    </tr>\n",
       "    <tr>\n",
       "      <th>25%</th>\n",
       "      <td>1.218564e+08</td>\n",
       "      <td>NaN</td>\n",
       "      <td>NaN</td>\n",
       "      <td>NaN</td>\n",
       "      <td>1.098612e+00</td>\n",
       "      <td>NaN</td>\n",
       "      <td>1.000000e+00</td>\n",
       "    </tr>\n",
       "    <tr>\n",
       "      <th>50%</th>\n",
       "      <td>1.230700e+08</td>\n",
       "      <td>NaN</td>\n",
       "      <td>NaN</td>\n",
       "      <td>NaN</td>\n",
       "      <td>1.609438e+00</td>\n",
       "      <td>NaN</td>\n",
       "      <td>3.000000e+00</td>\n",
       "    </tr>\n",
       "    <tr>\n",
       "      <th>75%</th>\n",
       "      <td>1.242835e+08</td>\n",
       "      <td>NaN</td>\n",
       "      <td>NaN</td>\n",
       "      <td>NaN</td>\n",
       "      <td>2.197225e+00</td>\n",
       "      <td>NaN</td>\n",
       "      <td>5.000000e+00</td>\n",
       "    </tr>\n",
       "    <tr>\n",
       "      <th>max</th>\n",
       "      <td>1.254970e+08</td>\n",
       "      <td>NaN</td>\n",
       "      <td>NaN</td>\n",
       "      <td>NaN</td>\n",
       "      <td>8.902320e+00</td>\n",
       "      <td>NaN</td>\n",
       "      <td>6.000000e+00</td>\n",
       "    </tr>\n",
       "  </tbody>\n",
       "</table>\n",
       "</div>"
      ],
      "text/plain": [
       "                  id                 date store_nbr item_nbr    unit_sales  \\\n",
       "count   4.854129e+06              4854129   4854129  4854129  4.854129e+06   \n",
       "unique           NaN                   46        54     3889           NaN   \n",
       "top              NaN  2017-07-01 00:00:00        44  2042947           NaN   \n",
       "freq             NaN               118194    128578     2479           NaN   \n",
       "first            NaN  2017-07-01 00:00:00       NaN      NaN           NaN   \n",
       "last             NaN  2017-08-15 00:00:00       NaN      NaN           NaN   \n",
       "mean    1.230700e+08                  NaN       NaN      NaN  1.678138e+00   \n",
       "std     1.401266e+06                  NaN       NaN      NaN  8.679605e-01   \n",
       "min     1.206429e+08                  NaN       NaN      NaN  0.000000e+00   \n",
       "25%     1.218564e+08                  NaN       NaN      NaN  1.098612e+00   \n",
       "50%     1.230700e+08                  NaN       NaN      NaN  1.609438e+00   \n",
       "75%     1.242835e+08                  NaN       NaN      NaN  2.197225e+00   \n",
       "max     1.254970e+08                  NaN       NaN      NaN  8.902320e+00   \n",
       "\n",
       "       onpromotion           dow  \n",
       "count      4854129  4.854129e+06  \n",
       "unique           2           NaN  \n",
       "top          False           NaN  \n",
       "freq       4284723           NaN  \n",
       "first          NaN           NaN  \n",
       "last           NaN           NaN  \n",
       "mean           NaN  3.050419e+00  \n",
       "std            NaN  2.074317e+00  \n",
       "min            NaN  0.000000e+00  \n",
       "25%            NaN  1.000000e+00  \n",
       "50%            NaN  3.000000e+00  \n",
       "75%            NaN  5.000000e+00  \n",
       "max            NaN  6.000000e+00  "
      ]
     },
     "execution_count": 30,
     "metadata": {},
     "output_type": "execute_result"
    }
   ],
   "source": [
    "df_train.describe(include=\"all\")"
   ]
  },
  {
   "cell_type": "markdown",
   "metadata": {},
   "source": [
    "### merging"
   ]
  },
  {
   "cell_type": "code",
   "execution_count": 31,
   "metadata": {
    "collapsed": true
   },
   "outputs": [],
   "source": [
    "#print(oil.index[0],df_train.date[0])"
   ]
  },
  {
   "cell_type": "code",
   "execution_count": 32,
   "metadata": {},
   "outputs": [
    {
     "data": {
      "text/plain": [
       "(id                      int64\n",
       " date           datetime64[ns]\n",
       " store_nbr            category\n",
       " item_nbr             category\n",
       " unit_sales            float32\n",
       " onpromotion            object\n",
       " dow                     int64\n",
       " dtype: object, id                      int64\n",
       " date           datetime64[ns]\n",
       " store_nbr            category\n",
       " item_nbr             category\n",
       " onpromotion              bool\n",
       " dtype: object)"
      ]
     },
     "execution_count": 32,
     "metadata": {},
     "output_type": "execute_result"
    }
   ],
   "source": [
    "df_train.dtypes,df_test.dtypes"
   ]
  },
  {
   "cell_type": "code",
   "execution_count": 33,
   "metadata": {},
   "outputs": [
    {
     "data": {
      "text/plain": [
       "(8224593, 1043.2271518707275)"
      ]
     },
     "execution_count": 33,
     "metadata": {},
     "output_type": "execute_result"
    }
   ],
   "source": [
    "df_train_test=df_train.append(df_test)\n",
    "len(df_train_test),sys.getsizeof(df_train_test)/1024/1024"
   ]
  },
  {
   "cell_type": "code",
   "execution_count": 34,
   "metadata": {},
   "outputs": [
    {
     "data": {
      "text/plain": [
       "date           datetime64[ns]\n",
       "dow                   float64\n",
       "id                      int64\n",
       "item_nbr             category\n",
       "onpromotion            object\n",
       "store_nbr            category\n",
       "unit_sales            float32\n",
       "dtype: object"
      ]
     },
     "execution_count": 34,
     "metadata": {},
     "output_type": "execute_result"
    }
   ],
   "source": [
    "df_train_test[\"item_nbr\"]=df_train_test[\"item_nbr\"].astype(\"category\")\n",
    "df_train_test.dtypes"
   ]
  },
  {
   "cell_type": "code",
   "execution_count": 35,
   "metadata": {},
   "outputs": [
    {
     "data": {
      "text/plain": [
       "560.22580909729"
      ]
     },
     "execution_count": 35,
     "metadata": {},
     "output_type": "execute_result"
    }
   ],
   "source": [
    "sys.getsizeof(df_train_test)/1024/1024"
   ]
  },
  {
   "cell_type": "code",
   "execution_count": 36,
   "metadata": {
    "collapsed": true
   },
   "outputs": [],
   "source": [
    "oil2=oil.loc[df_train_test.date.unique()].ffill().bfill()\n",
    "#transactions2=transactions.loc[df_train_test.date.unique(),\"date\"]"
   ]
  },
  {
   "cell_type": "code",
   "execution_count": 37,
   "metadata": {},
   "outputs": [
    {
     "data": {
      "text/plain": [
       "8224593"
      ]
     },
     "execution_count": 37,
     "metadata": {},
     "output_type": "execute_result"
    }
   ],
   "source": [
    "final_df=df_train_test.\\\n",
    "            merge(items,left_on=\"item_nbr\",right_index=True).\\\n",
    "            merge(stores,left_on=\"store_nbr\",right_index=True).\\\n",
    "            merge(oil2,left_on=\"date\",right_index=True)#.\\\n",
    "            #merge(transactions,on=[\"date\",\"store_nbr\"],how=\"left\")\n",
    "len(final_df)"
   ]
  },
  {
   "cell_type": "code",
   "execution_count": 38,
   "metadata": {},
   "outputs": [
    {
     "data": {
      "text/html": [
       "<div>\n",
       "<style>\n",
       "    .dataframe thead tr:only-child th {\n",
       "        text-align: right;\n",
       "    }\n",
       "\n",
       "    .dataframe thead th {\n",
       "        text-align: left;\n",
       "    }\n",
       "\n",
       "    .dataframe tbody tr th {\n",
       "        vertical-align: top;\n",
       "    }\n",
       "</style>\n",
       "<table border=\"1\" class=\"dataframe\">\n",
       "  <thead>\n",
       "    <tr style=\"text-align: right;\">\n",
       "      <th></th>\n",
       "      <th>date</th>\n",
       "      <th>dow</th>\n",
       "      <th>id</th>\n",
       "      <th>item_nbr</th>\n",
       "      <th>onpromotion</th>\n",
       "      <th>store_nbr</th>\n",
       "      <th>unit_sales</th>\n",
       "      <th>family</th>\n",
       "      <th>class</th>\n",
       "      <th>perishable</th>\n",
       "      <th>city</th>\n",
       "      <th>state</th>\n",
       "      <th>type</th>\n",
       "      <th>cluster</th>\n",
       "      <th>dcoilwtico</th>\n",
       "    </tr>\n",
       "  </thead>\n",
       "  <tbody>\n",
       "    <tr>\n",
       "      <th>19037158</th>\n",
       "      <td>2017-07-01</td>\n",
       "      <td>5.0</td>\n",
       "      <td>120642911</td>\n",
       "      <td>99197</td>\n",
       "      <td>False</td>\n",
       "      <td>1</td>\n",
       "      <td>1.098612</td>\n",
       "      <td>GROCERY I</td>\n",
       "      <td>1067</td>\n",
       "      <td>False</td>\n",
       "      <td>Quito</td>\n",
       "      <td>Pichincha</td>\n",
       "      <td>D</td>\n",
       "      <td>13</td>\n",
       "      <td>46.02</td>\n",
       "    </tr>\n",
       "    <tr>\n",
       "      <th>19037159</th>\n",
       "      <td>2017-07-01</td>\n",
       "      <td>5.0</td>\n",
       "      <td>120642912</td>\n",
       "      <td>103520</td>\n",
       "      <td>False</td>\n",
       "      <td>1</td>\n",
       "      <td>1.098612</td>\n",
       "      <td>GROCERY I</td>\n",
       "      <td>1028</td>\n",
       "      <td>False</td>\n",
       "      <td>Quito</td>\n",
       "      <td>Pichincha</td>\n",
       "      <td>D</td>\n",
       "      <td>13</td>\n",
       "      <td>46.02</td>\n",
       "    </tr>\n",
       "    <tr>\n",
       "      <th>19037160</th>\n",
       "      <td>2017-07-01</td>\n",
       "      <td>5.0</td>\n",
       "      <td>120642913</td>\n",
       "      <td>103665</td>\n",
       "      <td>False</td>\n",
       "      <td>1</td>\n",
       "      <td>2.484907</td>\n",
       "      <td>BREAD/BAKERY</td>\n",
       "      <td>2712</td>\n",
       "      <td>True</td>\n",
       "      <td>Quito</td>\n",
       "      <td>Pichincha</td>\n",
       "      <td>D</td>\n",
       "      <td>13</td>\n",
       "      <td>46.02</td>\n",
       "    </tr>\n",
       "    <tr>\n",
       "      <th>19037161</th>\n",
       "      <td>2017-07-01</td>\n",
       "      <td>5.0</td>\n",
       "      <td>120642914</td>\n",
       "      <td>105574</td>\n",
       "      <td>False</td>\n",
       "      <td>1</td>\n",
       "      <td>1.098612</td>\n",
       "      <td>GROCERY I</td>\n",
       "      <td>1045</td>\n",
       "      <td>False</td>\n",
       "      <td>Quito</td>\n",
       "      <td>Pichincha</td>\n",
       "      <td>D</td>\n",
       "      <td>13</td>\n",
       "      <td>46.02</td>\n",
       "    </tr>\n",
       "    <tr>\n",
       "      <th>19037162</th>\n",
       "      <td>2017-07-01</td>\n",
       "      <td>5.0</td>\n",
       "      <td>120642915</td>\n",
       "      <td>105575</td>\n",
       "      <td>False</td>\n",
       "      <td>1</td>\n",
       "      <td>1.386294</td>\n",
       "      <td>GROCERY I</td>\n",
       "      <td>1045</td>\n",
       "      <td>False</td>\n",
       "      <td>Quito</td>\n",
       "      <td>Pichincha</td>\n",
       "      <td>D</td>\n",
       "      <td>13</td>\n",
       "      <td>46.02</td>\n",
       "    </tr>\n",
       "  </tbody>\n",
       "</table>\n",
       "</div>"
      ],
      "text/plain": [
       "               date  dow         id item_nbr onpromotion store_nbr  \\\n",
       "19037158 2017-07-01  5.0  120642911    99197       False         1   \n",
       "19037159 2017-07-01  5.0  120642912   103520       False         1   \n",
       "19037160 2017-07-01  5.0  120642913   103665       False         1   \n",
       "19037161 2017-07-01  5.0  120642914   105574       False         1   \n",
       "19037162 2017-07-01  5.0  120642915   105575       False         1   \n",
       "\n",
       "          unit_sales        family class  perishable   city      state type  \\\n",
       "19037158    1.098612     GROCERY I  1067       False  Quito  Pichincha    D   \n",
       "19037159    1.098612     GROCERY I  1028       False  Quito  Pichincha    D   \n",
       "19037160    2.484907  BREAD/BAKERY  2712        True  Quito  Pichincha    D   \n",
       "19037161    1.098612     GROCERY I  1045       False  Quito  Pichincha    D   \n",
       "19037162    1.386294     GROCERY I  1045       False  Quito  Pichincha    D   \n",
       "\n",
       "         cluster  dcoilwtico  \n",
       "19037158      13       46.02  \n",
       "19037159      13       46.02  \n",
       "19037160      13       46.02  \n",
       "19037161      13       46.02  \n",
       "19037162      13       46.02  "
      ]
     },
     "execution_count": 38,
     "metadata": {},
     "output_type": "execute_result"
    }
   ],
   "source": [
    "final_df.head()"
   ]
  },
  {
   "cell_type": "code",
   "execution_count": 39,
   "metadata": {},
   "outputs": [
    {
     "data": {
      "text/plain": [
       "date           datetime64[ns]\n",
       "dow                   float64\n",
       "id                      int64\n",
       "item_nbr             category\n",
       "onpromotion            object\n",
       "store_nbr            category\n",
       "unit_sales            float32\n",
       "family               category\n",
       "class                category\n",
       "perishable               bool\n",
       "city                 category\n",
       "state                category\n",
       "type                 category\n",
       "cluster              category\n",
       "dcoilwtico            float32\n",
       "dtype: object"
      ]
     },
     "execution_count": 39,
     "metadata": {},
     "output_type": "execute_result"
    }
   ],
   "source": [
    "for c in ['item_nbr','store_nbr','family','class','city','state','type','cluster']:\n",
    "    final_df[c]=final_df[c].astype(\"category\")\n",
    "for c in ['unit_sales','dcoilwtico']:\n",
    "    final_df[c]=final_df[c].astype(\"float32\")\n",
    "final_df.dtypes"
   ]
  },
  {
   "cell_type": "code",
   "execution_count": 40,
   "metadata": {},
   "outputs": [
    {
     "data": {
      "text/plain": [
       "654.3871450424194"
      ]
     },
     "execution_count": 40,
     "metadata": {},
     "output_type": "execute_result"
    }
   ],
   "source": [
    "sys.getsizeof(final_df)/1024/1024"
   ]
  },
  {
   "cell_type": "code",
   "execution_count": 41,
   "metadata": {},
   "outputs": [
    {
     "name": "stdout",
     "output_type": "stream",
     "text": [
      "dow\n",
      "unit_sales\n"
     ]
    }
   ],
   "source": [
    "for c in final_df.columns:\n",
    "    if (final_df[c].isnull().any()): print(c)"
   ]
  },
  {
   "cell_type": "code",
   "execution_count": 42,
   "metadata": {
    "collapsed": true
   },
   "outputs": [],
   "source": [
    "#final_df_train=final_df[~(final_df.unit_sales.isnull())]\n",
    "#final_df_test=final_df[final_df.unit_sales.isnull()]\n",
    "#len(final_df),len(final_df_train),len(final_df_test),len(final_df_train)+len(final_df_test)"
   ]
  },
  {
   "cell_type": "code",
   "execution_count": 43,
   "metadata": {
    "collapsed": true
   },
   "outputs": [],
   "source": [
    "#final_df_train.groupby([\"family\",'class','perishable','store_nbr','city'])[\"unit_sales\"].mean().reset_index()"
   ]
  },
  {
   "cell_type": "code",
   "execution_count": 44,
   "metadata": {},
   "outputs": [
    {
     "data": {
      "text/html": [
       "<div>\n",
       "<style>\n",
       "    .dataframe thead tr:only-child th {\n",
       "        text-align: right;\n",
       "    }\n",
       "\n",
       "    .dataframe thead th {\n",
       "        text-align: left;\n",
       "    }\n",
       "\n",
       "    .dataframe tbody tr th {\n",
       "        vertical-align: top;\n",
       "    }\n",
       "</style>\n",
       "<table border=\"1\" class=\"dataframe\">\n",
       "  <thead>\n",
       "    <tr style=\"text-align: right;\">\n",
       "      <th></th>\n",
       "      <th>date</th>\n",
       "      <th>dow</th>\n",
       "      <th>id</th>\n",
       "      <th>item_nbr</th>\n",
       "      <th>onpromotion</th>\n",
       "      <th>store_nbr</th>\n",
       "      <th>unit_sales</th>\n",
       "      <th>family</th>\n",
       "      <th>class</th>\n",
       "      <th>perishable</th>\n",
       "      <th>city</th>\n",
       "      <th>state</th>\n",
       "      <th>type</th>\n",
       "      <th>cluster</th>\n",
       "      <th>dcoilwtico</th>\n",
       "    </tr>\n",
       "  </thead>\n",
       "  <tbody>\n",
       "    <tr>\n",
       "      <th>19037158</th>\n",
       "      <td>2017-07-01</td>\n",
       "      <td>5.0</td>\n",
       "      <td>120642911</td>\n",
       "      <td>99197</td>\n",
       "      <td>False</td>\n",
       "      <td>1</td>\n",
       "      <td>1.098612</td>\n",
       "      <td>GROCERY I</td>\n",
       "      <td>1067</td>\n",
       "      <td>False</td>\n",
       "      <td>Quito</td>\n",
       "      <td>Pichincha</td>\n",
       "      <td>D</td>\n",
       "      <td>13</td>\n",
       "      <td>46.02</td>\n",
       "    </tr>\n",
       "    <tr>\n",
       "      <th>19037159</th>\n",
       "      <td>2017-07-01</td>\n",
       "      <td>5.0</td>\n",
       "      <td>120642912</td>\n",
       "      <td>103520</td>\n",
       "      <td>False</td>\n",
       "      <td>1</td>\n",
       "      <td>1.098612</td>\n",
       "      <td>GROCERY I</td>\n",
       "      <td>1028</td>\n",
       "      <td>False</td>\n",
       "      <td>Quito</td>\n",
       "      <td>Pichincha</td>\n",
       "      <td>D</td>\n",
       "      <td>13</td>\n",
       "      <td>46.02</td>\n",
       "    </tr>\n",
       "    <tr>\n",
       "      <th>19037160</th>\n",
       "      <td>2017-07-01</td>\n",
       "      <td>5.0</td>\n",
       "      <td>120642913</td>\n",
       "      <td>103665</td>\n",
       "      <td>False</td>\n",
       "      <td>1</td>\n",
       "      <td>2.484907</td>\n",
       "      <td>BREAD/BAKERY</td>\n",
       "      <td>2712</td>\n",
       "      <td>True</td>\n",
       "      <td>Quito</td>\n",
       "      <td>Pichincha</td>\n",
       "      <td>D</td>\n",
       "      <td>13</td>\n",
       "      <td>46.02</td>\n",
       "    </tr>\n",
       "    <tr>\n",
       "      <th>19037161</th>\n",
       "      <td>2017-07-01</td>\n",
       "      <td>5.0</td>\n",
       "      <td>120642914</td>\n",
       "      <td>105574</td>\n",
       "      <td>False</td>\n",
       "      <td>1</td>\n",
       "      <td>1.098612</td>\n",
       "      <td>GROCERY I</td>\n",
       "      <td>1045</td>\n",
       "      <td>False</td>\n",
       "      <td>Quito</td>\n",
       "      <td>Pichincha</td>\n",
       "      <td>D</td>\n",
       "      <td>13</td>\n",
       "      <td>46.02</td>\n",
       "    </tr>\n",
       "    <tr>\n",
       "      <th>19037162</th>\n",
       "      <td>2017-07-01</td>\n",
       "      <td>5.0</td>\n",
       "      <td>120642915</td>\n",
       "      <td>105575</td>\n",
       "      <td>False</td>\n",
       "      <td>1</td>\n",
       "      <td>1.386294</td>\n",
       "      <td>GROCERY I</td>\n",
       "      <td>1045</td>\n",
       "      <td>False</td>\n",
       "      <td>Quito</td>\n",
       "      <td>Pichincha</td>\n",
       "      <td>D</td>\n",
       "      <td>13</td>\n",
       "      <td>46.02</td>\n",
       "    </tr>\n",
       "  </tbody>\n",
       "</table>\n",
       "</div>"
      ],
      "text/plain": [
       "               date  dow         id item_nbr onpromotion store_nbr  \\\n",
       "19037158 2017-07-01  5.0  120642911    99197       False         1   \n",
       "19037159 2017-07-01  5.0  120642912   103520       False         1   \n",
       "19037160 2017-07-01  5.0  120642913   103665       False         1   \n",
       "19037161 2017-07-01  5.0  120642914   105574       False         1   \n",
       "19037162 2017-07-01  5.0  120642915   105575       False         1   \n",
       "\n",
       "          unit_sales        family class  perishable   city      state type  \\\n",
       "19037158    1.098612     GROCERY I  1067       False  Quito  Pichincha    D   \n",
       "19037159    1.098612     GROCERY I  1028       False  Quito  Pichincha    D   \n",
       "19037160    2.484907  BREAD/BAKERY  2712        True  Quito  Pichincha    D   \n",
       "19037161    1.098612     GROCERY I  1045       False  Quito  Pichincha    D   \n",
       "19037162    1.386294     GROCERY I  1045       False  Quito  Pichincha    D   \n",
       "\n",
       "         cluster  dcoilwtico  \n",
       "19037158      13       46.02  \n",
       "19037159      13       46.02  \n",
       "19037160      13       46.02  \n",
       "19037161      13       46.02  \n",
       "19037162      13       46.02  "
      ]
     },
     "execution_count": 44,
     "metadata": {},
     "output_type": "execute_result"
    }
   ],
   "source": [
    "final_df.head()\n"
   ]
  },
  {
   "cell_type": "code",
   "execution_count": 45,
   "metadata": {
    "collapsed": true
   },
   "outputs": [],
   "source": [
    "\n",
    "#pd.get_dummies(final_df[cols_to_enc])"
   ]
  },
  {
   "cell_type": "code",
   "execution_count": 46,
   "metadata": {
    "collapsed": true
   },
   "outputs": [],
   "source": [
    "cols_to_enc=[\"family\",\"class\",\"city\",\"state\",\"type\",\"cluster\",\"store_nbr\"]\n",
    "for c in cols_to_enc:\n",
    "    final_df[c]= final_df[c].cat.codes\n"
   ]
  },
  {
   "cell_type": "code",
   "execution_count": 47,
   "metadata": {},
   "outputs": [
    {
     "data": {
      "text/html": [
       "<div>\n",
       "<style>\n",
       "    .dataframe thead tr:only-child th {\n",
       "        text-align: right;\n",
       "    }\n",
       "\n",
       "    .dataframe thead th {\n",
       "        text-align: left;\n",
       "    }\n",
       "\n",
       "    .dataframe tbody tr th {\n",
       "        vertical-align: top;\n",
       "    }\n",
       "</style>\n",
       "<table border=\"1\" class=\"dataframe\">\n",
       "  <thead>\n",
       "    <tr style=\"text-align: right;\">\n",
       "      <th></th>\n",
       "      <th>date</th>\n",
       "      <th>dow</th>\n",
       "      <th>id</th>\n",
       "      <th>item_nbr</th>\n",
       "      <th>onpromotion</th>\n",
       "      <th>store_nbr</th>\n",
       "      <th>unit_sales</th>\n",
       "      <th>family</th>\n",
       "      <th>class</th>\n",
       "      <th>perishable</th>\n",
       "      <th>city</th>\n",
       "      <th>state</th>\n",
       "      <th>type</th>\n",
       "      <th>cluster</th>\n",
       "      <th>dcoilwtico</th>\n",
       "    </tr>\n",
       "  </thead>\n",
       "  <tbody>\n",
       "    <tr>\n",
       "      <th>19037158</th>\n",
       "      <td>2017-07-01</td>\n",
       "      <td>5.0</td>\n",
       "      <td>120642911</td>\n",
       "      <td>99197</td>\n",
       "      <td>False</td>\n",
       "      <td>0</td>\n",
       "      <td>1.098612</td>\n",
       "      <td>12</td>\n",
       "      <td>44</td>\n",
       "      <td>False</td>\n",
       "      <td>18</td>\n",
       "      <td>12</td>\n",
       "      <td>3</td>\n",
       "      <td>4</td>\n",
       "      <td>46.02</td>\n",
       "    </tr>\n",
       "    <tr>\n",
       "      <th>19037159</th>\n",
       "      <td>2017-07-01</td>\n",
       "      <td>5.0</td>\n",
       "      <td>120642912</td>\n",
       "      <td>103520</td>\n",
       "      <td>False</td>\n",
       "      <td>0</td>\n",
       "      <td>1.098612</td>\n",
       "      <td>12</td>\n",
       "      <td>17</td>\n",
       "      <td>False</td>\n",
       "      <td>18</td>\n",
       "      <td>12</td>\n",
       "      <td>3</td>\n",
       "      <td>4</td>\n",
       "      <td>46.02</td>\n",
       "    </tr>\n",
       "    <tr>\n",
       "      <th>19037160</th>\n",
       "      <td>2017-07-01</td>\n",
       "      <td>5.0</td>\n",
       "      <td>120642913</td>\n",
       "      <td>103665</td>\n",
       "      <td>False</td>\n",
       "      <td>0</td>\n",
       "      <td>2.484907</td>\n",
       "      <td>5</td>\n",
       "      <td>187</td>\n",
       "      <td>True</td>\n",
       "      <td>18</td>\n",
       "      <td>12</td>\n",
       "      <td>3</td>\n",
       "      <td>4</td>\n",
       "      <td>46.02</td>\n",
       "    </tr>\n",
       "    <tr>\n",
       "      <th>19037161</th>\n",
       "      <td>2017-07-01</td>\n",
       "      <td>5.0</td>\n",
       "      <td>120642914</td>\n",
       "      <td>105574</td>\n",
       "      <td>False</td>\n",
       "      <td>0</td>\n",
       "      <td>1.098612</td>\n",
       "      <td>12</td>\n",
       "      <td>31</td>\n",
       "      <td>False</td>\n",
       "      <td>18</td>\n",
       "      <td>12</td>\n",
       "      <td>3</td>\n",
       "      <td>4</td>\n",
       "      <td>46.02</td>\n",
       "    </tr>\n",
       "    <tr>\n",
       "      <th>19037162</th>\n",
       "      <td>2017-07-01</td>\n",
       "      <td>5.0</td>\n",
       "      <td>120642915</td>\n",
       "      <td>105575</td>\n",
       "      <td>False</td>\n",
       "      <td>0</td>\n",
       "      <td>1.386294</td>\n",
       "      <td>12</td>\n",
       "      <td>31</td>\n",
       "      <td>False</td>\n",
       "      <td>18</td>\n",
       "      <td>12</td>\n",
       "      <td>3</td>\n",
       "      <td>4</td>\n",
       "      <td>46.02</td>\n",
       "    </tr>\n",
       "  </tbody>\n",
       "</table>\n",
       "</div>"
      ],
      "text/plain": [
       "               date  dow         id item_nbr onpromotion  store_nbr  \\\n",
       "19037158 2017-07-01  5.0  120642911    99197       False          0   \n",
       "19037159 2017-07-01  5.0  120642912   103520       False          0   \n",
       "19037160 2017-07-01  5.0  120642913   103665       False          0   \n",
       "19037161 2017-07-01  5.0  120642914   105574       False          0   \n",
       "19037162 2017-07-01  5.0  120642915   105575       False          0   \n",
       "\n",
       "          unit_sales  family  class  perishable  city  state  type  cluster  \\\n",
       "19037158    1.098612      12     44       False    18     12     3        4   \n",
       "19037159    1.098612      12     17       False    18     12     3        4   \n",
       "19037160    2.484907       5    187        True    18     12     3        4   \n",
       "19037161    1.098612      12     31       False    18     12     3        4   \n",
       "19037162    1.386294      12     31       False    18     12     3        4   \n",
       "\n",
       "          dcoilwtico  \n",
       "19037158       46.02  \n",
       "19037159       46.02  \n",
       "19037160       46.02  \n",
       "19037161       46.02  \n",
       "19037162       46.02  "
      ]
     },
     "execution_count": 47,
     "metadata": {},
     "output_type": "execute_result"
    }
   ],
   "source": [
    "final_df.head()"
   ]
  },
  {
   "cell_type": "code",
   "execution_count": 48,
   "metadata": {
    "collapsed": true
   },
   "outputs": [],
   "source": [
    "#enc=varie.bin_enc(final_df,cols_to_enc)\n",
    "enc=final_df"
   ]
  },
  {
   "cell_type": "code",
   "execution_count": 49,
   "metadata": {},
   "outputs": [
    {
     "data": {
      "text/plain": [
       "(Timestamp('2017-07-01 00:00:00'),\n",
       " Timestamp('2017-08-15 00:00:00'),\n",
       " Timestamp('2017-08-16 00:00:00'),\n",
       " Timestamp('2017-08-31 00:00:00'))"
      ]
     },
     "execution_count": 49,
     "metadata": {},
     "output_type": "execute_result"
    }
   ],
   "source": [
    "df_train.date.min(),df_train.date.max(),df_test.date.min(),df_test.date.max()"
   ]
  },
  {
   "cell_type": "code",
   "execution_count": 50,
   "metadata": {
    "collapsed": true
   },
   "outputs": [],
   "source": [
    "del(final_df)\n",
    "del(df_train)\n",
    "del(df_test)"
   ]
  },
  {
   "cell_type": "code",
   "execution_count": 51,
   "metadata": {},
   "outputs": [
    {
     "data": {
      "text/html": [
       "<div>\n",
       "<style>\n",
       "    .dataframe thead tr:only-child th {\n",
       "        text-align: right;\n",
       "    }\n",
       "\n",
       "    .dataframe thead th {\n",
       "        text-align: left;\n",
       "    }\n",
       "\n",
       "    .dataframe tbody tr th {\n",
       "        vertical-align: top;\n",
       "    }\n",
       "</style>\n",
       "<table border=\"1\" class=\"dataframe\">\n",
       "  <thead>\n",
       "    <tr style=\"text-align: right;\">\n",
       "      <th></th>\n",
       "      <th>date</th>\n",
       "      <th>dow</th>\n",
       "      <th>id</th>\n",
       "      <th>item_nbr</th>\n",
       "      <th>onpromotion</th>\n",
       "      <th>store_nbr</th>\n",
       "      <th>unit_sales</th>\n",
       "      <th>family</th>\n",
       "      <th>class</th>\n",
       "      <th>perishable</th>\n",
       "      <th>city</th>\n",
       "      <th>state</th>\n",
       "      <th>type</th>\n",
       "      <th>cluster</th>\n",
       "      <th>dcoilwtico</th>\n",
       "    </tr>\n",
       "  </thead>\n",
       "  <tbody>\n",
       "    <tr>\n",
       "      <th>19037158</th>\n",
       "      <td>2017-07-01</td>\n",
       "      <td>5.0</td>\n",
       "      <td>120642911</td>\n",
       "      <td>99197</td>\n",
       "      <td>False</td>\n",
       "      <td>0</td>\n",
       "      <td>1.098612</td>\n",
       "      <td>12</td>\n",
       "      <td>44</td>\n",
       "      <td>False</td>\n",
       "      <td>18</td>\n",
       "      <td>12</td>\n",
       "      <td>3</td>\n",
       "      <td>4</td>\n",
       "      <td>46.02</td>\n",
       "    </tr>\n",
       "    <tr>\n",
       "      <th>19037159</th>\n",
       "      <td>2017-07-01</td>\n",
       "      <td>5.0</td>\n",
       "      <td>120642912</td>\n",
       "      <td>103520</td>\n",
       "      <td>False</td>\n",
       "      <td>0</td>\n",
       "      <td>1.098612</td>\n",
       "      <td>12</td>\n",
       "      <td>17</td>\n",
       "      <td>False</td>\n",
       "      <td>18</td>\n",
       "      <td>12</td>\n",
       "      <td>3</td>\n",
       "      <td>4</td>\n",
       "      <td>46.02</td>\n",
       "    </tr>\n",
       "    <tr>\n",
       "      <th>19037160</th>\n",
       "      <td>2017-07-01</td>\n",
       "      <td>5.0</td>\n",
       "      <td>120642913</td>\n",
       "      <td>103665</td>\n",
       "      <td>False</td>\n",
       "      <td>0</td>\n",
       "      <td>2.484907</td>\n",
       "      <td>5</td>\n",
       "      <td>187</td>\n",
       "      <td>True</td>\n",
       "      <td>18</td>\n",
       "      <td>12</td>\n",
       "      <td>3</td>\n",
       "      <td>4</td>\n",
       "      <td>46.02</td>\n",
       "    </tr>\n",
       "    <tr>\n",
       "      <th>19037161</th>\n",
       "      <td>2017-07-01</td>\n",
       "      <td>5.0</td>\n",
       "      <td>120642914</td>\n",
       "      <td>105574</td>\n",
       "      <td>False</td>\n",
       "      <td>0</td>\n",
       "      <td>1.098612</td>\n",
       "      <td>12</td>\n",
       "      <td>31</td>\n",
       "      <td>False</td>\n",
       "      <td>18</td>\n",
       "      <td>12</td>\n",
       "      <td>3</td>\n",
       "      <td>4</td>\n",
       "      <td>46.02</td>\n",
       "    </tr>\n",
       "    <tr>\n",
       "      <th>19037162</th>\n",
       "      <td>2017-07-01</td>\n",
       "      <td>5.0</td>\n",
       "      <td>120642915</td>\n",
       "      <td>105575</td>\n",
       "      <td>False</td>\n",
       "      <td>0</td>\n",
       "      <td>1.386294</td>\n",
       "      <td>12</td>\n",
       "      <td>31</td>\n",
       "      <td>False</td>\n",
       "      <td>18</td>\n",
       "      <td>12</td>\n",
       "      <td>3</td>\n",
       "      <td>4</td>\n",
       "      <td>46.02</td>\n",
       "    </tr>\n",
       "  </tbody>\n",
       "</table>\n",
       "</div>"
      ],
      "text/plain": [
       "               date  dow         id item_nbr onpromotion  store_nbr  \\\n",
       "19037158 2017-07-01  5.0  120642911    99197       False          0   \n",
       "19037159 2017-07-01  5.0  120642912   103520       False          0   \n",
       "19037160 2017-07-01  5.0  120642913   103665       False          0   \n",
       "19037161 2017-07-01  5.0  120642914   105574       False          0   \n",
       "19037162 2017-07-01  5.0  120642915   105575       False          0   \n",
       "\n",
       "          unit_sales  family  class  perishable  city  state  type  cluster  \\\n",
       "19037158    1.098612      12     44       False    18     12     3        4   \n",
       "19037159    1.098612      12     17       False    18     12     3        4   \n",
       "19037160    2.484907       5    187        True    18     12     3        4   \n",
       "19037161    1.098612      12     31       False    18     12     3        4   \n",
       "19037162    1.386294      12     31       False    18     12     3        4   \n",
       "\n",
       "          dcoilwtico  \n",
       "19037158       46.02  \n",
       "19037159       46.02  \n",
       "19037160       46.02  \n",
       "19037161       46.02  \n",
       "19037162       46.02  "
      ]
     },
     "execution_count": 51,
     "metadata": {},
     "output_type": "execute_result"
    }
   ],
   "source": [
    "enc.head()"
   ]
  },
  {
   "cell_type": "code",
   "execution_count": 52,
   "metadata": {},
   "outputs": [
    {
     "data": {
      "text/html": [
       "<div>\n",
       "<style>\n",
       "    .dataframe thead tr:only-child th {\n",
       "        text-align: right;\n",
       "    }\n",
       "\n",
       "    .dataframe thead th {\n",
       "        text-align: left;\n",
       "    }\n",
       "\n",
       "    .dataframe tbody tr th {\n",
       "        vertical-align: top;\n",
       "    }\n",
       "</style>\n",
       "<table border=\"1\" class=\"dataframe\">\n",
       "  <thead>\n",
       "    <tr style=\"text-align: right;\">\n",
       "      <th></th>\n",
       "      <th>20753542</th>\n",
       "      <th>20754039</th>\n",
       "      <th>20754514</th>\n",
       "      <th>20754202</th>\n",
       "      <th>20754299</th>\n",
       "    </tr>\n",
       "  </thead>\n",
       "  <tbody>\n",
       "    <tr>\n",
       "      <th>date</th>\n",
       "      <td>2017-07-16 00:00:00</td>\n",
       "      <td>2017-07-16 00:00:00</td>\n",
       "      <td>2017-07-16 00:00:00</td>\n",
       "      <td>2017-07-16 00:00:00</td>\n",
       "      <td>2017-07-16 00:00:00</td>\n",
       "    </tr>\n",
       "    <tr>\n",
       "      <th>dow</th>\n",
       "      <td>6</td>\n",
       "      <td>6</td>\n",
       "      <td>6</td>\n",
       "      <td>6</td>\n",
       "      <td>6</td>\n",
       "    </tr>\n",
       "    <tr>\n",
       "      <th>id</th>\n",
       "      <td>122359295</td>\n",
       "      <td>122359792</td>\n",
       "      <td>122360267</td>\n",
       "      <td>122359955</td>\n",
       "      <td>122360052</td>\n",
       "    </tr>\n",
       "    <tr>\n",
       "      <th>item_nbr</th>\n",
       "      <td>413557</td>\n",
       "      <td>1162761</td>\n",
       "      <td>1935601</td>\n",
       "      <td>1368479</td>\n",
       "      <td>1457335</td>\n",
       "    </tr>\n",
       "    <tr>\n",
       "      <th>onpromotion</th>\n",
       "      <td>False</td>\n",
       "      <td>False</td>\n",
       "      <td>False</td>\n",
       "      <td>False</td>\n",
       "      <td>True</td>\n",
       "    </tr>\n",
       "    <tr>\n",
       "      <th>store_nbr</th>\n",
       "      <td>49</td>\n",
       "      <td>49</td>\n",
       "      <td>49</td>\n",
       "      <td>49</td>\n",
       "      <td>49</td>\n",
       "    </tr>\n",
       "    <tr>\n",
       "      <th>unit_sales</th>\n",
       "      <td>1.79176</td>\n",
       "      <td>2.70805</td>\n",
       "      <td>3.61092</td>\n",
       "      <td>0.693147</td>\n",
       "      <td>1.38629</td>\n",
       "    </tr>\n",
       "    <tr>\n",
       "      <th>family</th>\n",
       "      <td>12</td>\n",
       "      <td>7</td>\n",
       "      <td>12</td>\n",
       "      <td>15</td>\n",
       "      <td>18</td>\n",
       "    </tr>\n",
       "    <tr>\n",
       "      <th>class</th>\n",
       "      <td>38</td>\n",
       "      <td>230</td>\n",
       "      <td>2</td>\n",
       "      <td>299</td>\n",
       "      <td>242</td>\n",
       "    </tr>\n",
       "    <tr>\n",
       "      <th>perishable</th>\n",
       "      <td>False</td>\n",
       "      <td>False</td>\n",
       "      <td>False</td>\n",
       "      <td>False</td>\n",
       "      <td>False</td>\n",
       "    </tr>\n",
       "    <tr>\n",
       "      <th>city</th>\n",
       "      <td>5</td>\n",
       "      <td>5</td>\n",
       "      <td>5</td>\n",
       "      <td>5</td>\n",
       "      <td>5</td>\n",
       "    </tr>\n",
       "    <tr>\n",
       "      <th>state</th>\n",
       "      <td>10</td>\n",
       "      <td>10</td>\n",
       "      <td>10</td>\n",
       "      <td>10</td>\n",
       "      <td>10</td>\n",
       "    </tr>\n",
       "    <tr>\n",
       "      <th>type</th>\n",
       "      <td>2</td>\n",
       "      <td>2</td>\n",
       "      <td>2</td>\n",
       "      <td>2</td>\n",
       "      <td>2</td>\n",
       "    </tr>\n",
       "    <tr>\n",
       "      <th>cluster</th>\n",
       "      <td>10</td>\n",
       "      <td>10</td>\n",
       "      <td>10</td>\n",
       "      <td>10</td>\n",
       "      <td>10</td>\n",
       "    </tr>\n",
       "    <tr>\n",
       "      <th>dcoilwtico</th>\n",
       "      <td>46.53</td>\n",
       "      <td>46.53</td>\n",
       "      <td>46.53</td>\n",
       "      <td>46.53</td>\n",
       "      <td>46.53</td>\n",
       "    </tr>\n",
       "  </tbody>\n",
       "</table>\n",
       "</div>"
      ],
      "text/plain": [
       "                        20753542             20754039             20754514  \\\n",
       "date         2017-07-16 00:00:00  2017-07-16 00:00:00  2017-07-16 00:00:00   \n",
       "dow                            6                    6                    6   \n",
       "id                     122359295            122359792            122360267   \n",
       "item_nbr                  413557              1162761              1935601   \n",
       "onpromotion                False                False                False   \n",
       "store_nbr                     49                   49                   49   \n",
       "unit_sales               1.79176              2.70805              3.61092   \n",
       "family                        12                    7                   12   \n",
       "class                         38                  230                    2   \n",
       "perishable                 False                False                False   \n",
       "city                           5                    5                    5   \n",
       "state                         10                   10                   10   \n",
       "type                           2                    2                    2   \n",
       "cluster                       10                   10                   10   \n",
       "dcoilwtico                 46.53                46.53                46.53   \n",
       "\n",
       "                        20754202             20754299  \n",
       "date         2017-07-16 00:00:00  2017-07-16 00:00:00  \n",
       "dow                            6                    6  \n",
       "id                     122359955            122360052  \n",
       "item_nbr                 1368479              1457335  \n",
       "onpromotion                False                 True  \n",
       "store_nbr                     49                   49  \n",
       "unit_sales              0.693147              1.38629  \n",
       "family                        15                   18  \n",
       "class                        299                  242  \n",
       "perishable                 False                False  \n",
       "city                           5                    5  \n",
       "state                         10                   10  \n",
       "type                           2                    2  \n",
       "cluster                       10                   10  \n",
       "dcoilwtico                 46.53                46.53  "
      ]
     },
     "execution_count": 52,
     "metadata": {},
     "output_type": "execute_result"
    }
   ],
   "source": [
    "enc.tail().T"
   ]
  },
  {
   "cell_type": "code",
   "execution_count": 53,
   "metadata": {},
   "outputs": [
    {
     "name": "stderr",
     "output_type": "stream",
     "text": [
      "../kaggle_varie\\varie.py:20: UserWarning: Boolean Series key will be reindexed to match DataFrame index.\n",
      "  df_train=df[df[target].notnull()][df[date]<cut_date]        #train\n",
      "../kaggle_varie\\varie.py:21: UserWarning: Boolean Series key will be reindexed to match DataFrame index.\n",
      "  df_eval= df[df[target].notnull()][df[date]>= cut_date]      #test (I have data to check)\n"
     ]
    },
    {
     "data": {
      "text/plain": [
       "(4332672, 521457, 3370464)"
      ]
     },
     "execution_count": 53,
     "metadata": {},
     "output_type": "execute_result"
    },
    {
     "data": {
      "image/png": "[encoded data removed]",
      "text/plain": [
       "<matplotlib.figure.Figure at 0x1df80b94780>"
      ]
     },
     "metadata": {},
     "output_type": "display_data"
    }
   ],
   "source": [
    "%matplotlib inline\n",
    "import varie\n",
    "#cut_date='2016-8-25'\n",
    "cut_date='2017-8-11'\n",
    "dff_train,dff_eval,dff_test=varie.train_eval_test(enc,cut_date=cut_date,target=\"unit_sales\",date=\"date\")\n",
    "dff_train.groupby(\"date\")[\"unit_sales\"].mean().plot()\n",
    "dff_eval.groupby(\"date\")[\"unit_sales\"].mean().plot()\n",
    "len(dff_train), len(dff_eval), len(dff_test)"
   ]
  },
  {
   "cell_type": "code",
   "execution_count": 54,
   "metadata": {},
   "outputs": [
    {
     "data": {
      "text/plain": [
       "Index(['date', 'dow', 'id', 'item_nbr', 'onpromotion', 'store_nbr',\n",
       "       'unit_sales', 'family', 'class', 'perishable', 'city', 'state', 'type',\n",
       "       'cluster', 'dcoilwtico'],\n",
       "      dtype='object')"
      ]
     },
     "execution_count": 54,
     "metadata": {},
     "output_type": "execute_result"
    }
   ],
   "source": [
    "dff_train.columns"
   ]
  },
  {
   "cell_type": "code",
   "execution_count": 55,
   "metadata": {
    "scrolled": true
   },
   "outputs": [
    {
     "data": {
      "text/plain": [
       "date           False\n",
       "dow            False\n",
       "id             False\n",
       "item_nbr       False\n",
       "onpromotion    False\n",
       "store_nbr      False\n",
       "unit_sales     False\n",
       "family         False\n",
       "class          False\n",
       "perishable     False\n",
       "city           False\n",
       "state          False\n",
       "type           False\n",
       "cluster        False\n",
       "dcoilwtico     False\n",
       "dtype: bool"
      ]
     },
     "execution_count": 55,
     "metadata": {},
     "output_type": "execute_result"
    }
   ],
   "source": [
    "dff_train.isnull().any()"
   ]
  },
  {
   "cell_type": "code",
   "execution_count": 56,
   "metadata": {
    "scrolled": true
   },
   "outputs": [
    {
     "data": {
      "text/html": [
       "<div>\n",
       "<style>\n",
       "    .dataframe thead tr:only-child th {\n",
       "        text-align: right;\n",
       "    }\n",
       "\n",
       "    .dataframe thead th {\n",
       "        text-align: left;\n",
       "    }\n",
       "\n",
       "    .dataframe tbody tr th {\n",
       "        vertical-align: top;\n",
       "    }\n",
       "</style>\n",
       "<table border=\"1\" class=\"dataframe\">\n",
       "  <thead>\n",
       "    <tr style=\"text-align: right;\">\n",
       "      <th></th>\n",
       "      <th>family</th>\n",
       "      <th>class</th>\n",
       "      <th>perishable</th>\n",
       "    </tr>\n",
       "    <tr>\n",
       "      <th>item_nbr</th>\n",
       "      <th></th>\n",
       "      <th></th>\n",
       "      <th></th>\n",
       "    </tr>\n",
       "  </thead>\n",
       "  <tbody>\n",
       "    <tr>\n",
       "      <th>96995</th>\n",
       "      <td>GROCERY I</td>\n",
       "      <td>1093</td>\n",
       "      <td>False</td>\n",
       "    </tr>\n",
       "    <tr>\n",
       "      <th>99197</th>\n",
       "      <td>GROCERY I</td>\n",
       "      <td>1067</td>\n",
       "      <td>False</td>\n",
       "    </tr>\n",
       "    <tr>\n",
       "      <th>103501</th>\n",
       "      <td>CLEANING</td>\n",
       "      <td>3008</td>\n",
       "      <td>False</td>\n",
       "    </tr>\n",
       "    <tr>\n",
       "      <th>103520</th>\n",
       "      <td>GROCERY I</td>\n",
       "      <td>1028</td>\n",
       "      <td>False</td>\n",
       "    </tr>\n",
       "    <tr>\n",
       "      <th>103665</th>\n",
       "      <td>BREAD/BAKERY</td>\n",
       "      <td>2712</td>\n",
       "      <td>True</td>\n",
       "    </tr>\n",
       "    <tr>\n",
       "      <th>105574</th>\n",
       "      <td>GROCERY I</td>\n",
       "      <td>1045</td>\n",
       "      <td>False</td>\n",
       "    </tr>\n",
       "    <tr>\n",
       "      <th>105575</th>\n",
       "      <td>GROCERY I</td>\n",
       "      <td>1045</td>\n",
       "      <td>False</td>\n",
       "    </tr>\n",
       "    <tr>\n",
       "      <th>105576</th>\n",
       "      <td>GROCERY I</td>\n",
       "      <td>1045</td>\n",
       "      <td>False</td>\n",
       "    </tr>\n",
       "    <tr>\n",
       "      <th>105577</th>\n",
       "      <td>GROCERY I</td>\n",
       "      <td>1045</td>\n",
       "      <td>False</td>\n",
       "    </tr>\n",
       "    <tr>\n",
       "      <th>105693</th>\n",
       "      <td>GROCERY I</td>\n",
       "      <td>1034</td>\n",
       "      <td>False</td>\n",
       "    </tr>\n",
       "    <tr>\n",
       "      <th>105737</th>\n",
       "      <td>GROCERY I</td>\n",
       "      <td>1044</td>\n",
       "      <td>False</td>\n",
       "    </tr>\n",
       "    <tr>\n",
       "      <th>105857</th>\n",
       "      <td>GROCERY I</td>\n",
       "      <td>1092</td>\n",
       "      <td>False</td>\n",
       "    </tr>\n",
       "    <tr>\n",
       "      <th>106716</th>\n",
       "      <td>GROCERY I</td>\n",
       "      <td>1032</td>\n",
       "      <td>False</td>\n",
       "    </tr>\n",
       "    <tr>\n",
       "      <th>108079</th>\n",
       "      <td>GROCERY I</td>\n",
       "      <td>1030</td>\n",
       "      <td>False</td>\n",
       "    </tr>\n",
       "    <tr>\n",
       "      <th>108634</th>\n",
       "      <td>GROCERY I</td>\n",
       "      <td>1075</td>\n",
       "      <td>False</td>\n",
       "    </tr>\n",
       "    <tr>\n",
       "      <th>108696</th>\n",
       "      <td>DELI</td>\n",
       "      <td>2636</td>\n",
       "      <td>True</td>\n",
       "    </tr>\n",
       "    <tr>\n",
       "      <th>108698</th>\n",
       "      <td>DELI</td>\n",
       "      <td>2644</td>\n",
       "      <td>True</td>\n",
       "    </tr>\n",
       "    <tr>\n",
       "      <th>108701</th>\n",
       "      <td>DELI</td>\n",
       "      <td>2644</td>\n",
       "      <td>True</td>\n",
       "    </tr>\n",
       "    <tr>\n",
       "      <th>108786</th>\n",
       "      <td>CLEANING</td>\n",
       "      <td>3044</td>\n",
       "      <td>False</td>\n",
       "    </tr>\n",
       "    <tr>\n",
       "      <th>108797</th>\n",
       "      <td>GROCERY I</td>\n",
       "      <td>1004</td>\n",
       "      <td>False</td>\n",
       "    </tr>\n",
       "    <tr>\n",
       "      <th>108831</th>\n",
       "      <td>POULTRY</td>\n",
       "      <td>2416</td>\n",
       "      <td>True</td>\n",
       "    </tr>\n",
       "    <tr>\n",
       "      <th>108833</th>\n",
       "      <td>EGGS</td>\n",
       "      <td>2502</td>\n",
       "      <td>True</td>\n",
       "    </tr>\n",
       "    <tr>\n",
       "      <th>108862</th>\n",
       "      <td>GROCERY I</td>\n",
       "      <td>1062</td>\n",
       "      <td>False</td>\n",
       "    </tr>\n",
       "    <tr>\n",
       "      <th>108952</th>\n",
       "      <td>CLEANING</td>\n",
       "      <td>3024</td>\n",
       "      <td>False</td>\n",
       "    </tr>\n",
       "    <tr>\n",
       "      <th>111223</th>\n",
       "      <td>GROCERY I</td>\n",
       "      <td>1034</td>\n",
       "      <td>False</td>\n",
       "    </tr>\n",
       "    <tr>\n",
       "      <th>111397</th>\n",
       "      <td>GROCERY I</td>\n",
       "      <td>1072</td>\n",
       "      <td>False</td>\n",
       "    </tr>\n",
       "    <tr>\n",
       "      <th>112830</th>\n",
       "      <td>GROCERY I</td>\n",
       "      <td>1044</td>\n",
       "      <td>False</td>\n",
       "    </tr>\n",
       "    <tr>\n",
       "      <th>114778</th>\n",
       "      <td>GROCERY I</td>\n",
       "      <td>1016</td>\n",
       "      <td>False</td>\n",
       "    </tr>\n",
       "    <tr>\n",
       "      <th>114790</th>\n",
       "      <td>GROCERY I</td>\n",
       "      <td>1004</td>\n",
       "      <td>False</td>\n",
       "    </tr>\n",
       "    <tr>\n",
       "      <th>114799</th>\n",
       "      <td>PERSONAL CARE</td>\n",
       "      <td>4126</td>\n",
       "      <td>False</td>\n",
       "    </tr>\n",
       "    <tr>\n",
       "      <th>...</th>\n",
       "      <td>...</td>\n",
       "      <td>...</td>\n",
       "      <td>...</td>\n",
       "    </tr>\n",
       "    <tr>\n",
       "      <th>2127992</th>\n",
       "      <td>GROCERY I</td>\n",
       "      <td>1028</td>\n",
       "      <td>False</td>\n",
       "    </tr>\n",
       "    <tr>\n",
       "      <th>2128628</th>\n",
       "      <td>BEVERAGES</td>\n",
       "      <td>1122</td>\n",
       "      <td>False</td>\n",
       "    </tr>\n",
       "    <tr>\n",
       "      <th>2128799</th>\n",
       "      <td>BEVERAGES</td>\n",
       "      <td>1148</td>\n",
       "      <td>False</td>\n",
       "    </tr>\n",
       "    <tr>\n",
       "      <th>2129334</th>\n",
       "      <td>GROCERY I</td>\n",
       "      <td>1086</td>\n",
       "      <td>False</td>\n",
       "    </tr>\n",
       "    <tr>\n",
       "      <th>2129350</th>\n",
       "      <td>GROCERY I</td>\n",
       "      <td>1086</td>\n",
       "      <td>False</td>\n",
       "    </tr>\n",
       "    <tr>\n",
       "      <th>2129387</th>\n",
       "      <td>GROCERY I</td>\n",
       "      <td>1068</td>\n",
       "      <td>False</td>\n",
       "    </tr>\n",
       "    <tr>\n",
       "      <th>2129515</th>\n",
       "      <td>GROCERY I</td>\n",
       "      <td>1042</td>\n",
       "      <td>False</td>\n",
       "    </tr>\n",
       "    <tr>\n",
       "      <th>2129616</th>\n",
       "      <td>BEVERAGES</td>\n",
       "      <td>1124</td>\n",
       "      <td>False</td>\n",
       "    </tr>\n",
       "    <tr>\n",
       "      <th>2129678</th>\n",
       "      <td>GROCERY I</td>\n",
       "      <td>1030</td>\n",
       "      <td>False</td>\n",
       "    </tr>\n",
       "    <tr>\n",
       "      <th>2129786</th>\n",
       "      <td>GROCERY I</td>\n",
       "      <td>1016</td>\n",
       "      <td>False</td>\n",
       "    </tr>\n",
       "    <tr>\n",
       "      <th>2129790</th>\n",
       "      <td>GROCERY I</td>\n",
       "      <td>1094</td>\n",
       "      <td>False</td>\n",
       "    </tr>\n",
       "    <tr>\n",
       "      <th>2129892</th>\n",
       "      <td>GROCERY I</td>\n",
       "      <td>1092</td>\n",
       "      <td>False</td>\n",
       "    </tr>\n",
       "    <tr>\n",
       "      <th>2129994</th>\n",
       "      <td>GROCERY I</td>\n",
       "      <td>1092</td>\n",
       "      <td>False</td>\n",
       "    </tr>\n",
       "    <tr>\n",
       "      <th>2130131</th>\n",
       "      <td>GROCERY I</td>\n",
       "      <td>1092</td>\n",
       "      <td>False</td>\n",
       "    </tr>\n",
       "    <tr>\n",
       "      <th>2130219</th>\n",
       "      <td>GROCERY I</td>\n",
       "      <td>1094</td>\n",
       "      <td>False</td>\n",
       "    </tr>\n",
       "    <tr>\n",
       "      <th>2130265</th>\n",
       "      <td>GROCERY I</td>\n",
       "      <td>1094</td>\n",
       "      <td>False</td>\n",
       "    </tr>\n",
       "    <tr>\n",
       "      <th>2130352</th>\n",
       "      <td>GROCERY I</td>\n",
       "      <td>1094</td>\n",
       "      <td>False</td>\n",
       "    </tr>\n",
       "    <tr>\n",
       "      <th>2130474</th>\n",
       "      <td>GROCERY I</td>\n",
       "      <td>1064</td>\n",
       "      <td>False</td>\n",
       "    </tr>\n",
       "    <tr>\n",
       "      <th>2130521</th>\n",
       "      <td>GROCERY I</td>\n",
       "      <td>1040</td>\n",
       "      <td>False</td>\n",
       "    </tr>\n",
       "    <tr>\n",
       "      <th>2130526</th>\n",
       "      <td>GROCERY I</td>\n",
       "      <td>1030</td>\n",
       "      <td>False</td>\n",
       "    </tr>\n",
       "    <tr>\n",
       "      <th>2130553</th>\n",
       "      <td>LIQUOR,WINE,BEER</td>\n",
       "      <td>1318</td>\n",
       "      <td>False</td>\n",
       "    </tr>\n",
       "    <tr>\n",
       "      <th>2131010</th>\n",
       "      <td>LIQUOR,WINE,BEER</td>\n",
       "      <td>1328</td>\n",
       "      <td>False</td>\n",
       "    </tr>\n",
       "    <tr>\n",
       "      <th>2131572</th>\n",
       "      <td>GROCERY I</td>\n",
       "      <td>1002</td>\n",
       "      <td>False</td>\n",
       "    </tr>\n",
       "    <tr>\n",
       "      <th>2131699</th>\n",
       "      <td>GROCERY I</td>\n",
       "      <td>1002</td>\n",
       "      <td>False</td>\n",
       "    </tr>\n",
       "    <tr>\n",
       "      <th>2132163</th>\n",
       "      <td>GROCERY I</td>\n",
       "      <td>1040</td>\n",
       "      <td>False</td>\n",
       "    </tr>\n",
       "    <tr>\n",
       "      <th>2132318</th>\n",
       "      <td>GROCERY I</td>\n",
       "      <td>1002</td>\n",
       "      <td>False</td>\n",
       "    </tr>\n",
       "    <tr>\n",
       "      <th>2132945</th>\n",
       "      <td>GROCERY I</td>\n",
       "      <td>1026</td>\n",
       "      <td>False</td>\n",
       "    </tr>\n",
       "    <tr>\n",
       "      <th>2132957</th>\n",
       "      <td>GROCERY I</td>\n",
       "      <td>1068</td>\n",
       "      <td>False</td>\n",
       "    </tr>\n",
       "    <tr>\n",
       "      <th>2134058</th>\n",
       "      <td>BEVERAGES</td>\n",
       "      <td>1124</td>\n",
       "      <td>False</td>\n",
       "    </tr>\n",
       "    <tr>\n",
       "      <th>2134244</th>\n",
       "      <td>LIQUOR,WINE,BEER</td>\n",
       "      <td>1364</td>\n",
       "      <td>False</td>\n",
       "    </tr>\n",
       "  </tbody>\n",
       "</table>\n",
       "<p>4100 rows × 3 columns</p>\n",
       "</div>"
      ],
      "text/plain": [
       "                    family class  perishable\n",
       "item_nbr                                    \n",
       "96995            GROCERY I  1093       False\n",
       "99197            GROCERY I  1067       False\n",
       "103501            CLEANING  3008       False\n",
       "103520           GROCERY I  1028       False\n",
       "103665        BREAD/BAKERY  2712        True\n",
       "105574           GROCERY I  1045       False\n",
       "105575           GROCERY I  1045       False\n",
       "105576           GROCERY I  1045       False\n",
       "105577           GROCERY I  1045       False\n",
       "105693           GROCERY I  1034       False\n",
       "105737           GROCERY I  1044       False\n",
       "105857           GROCERY I  1092       False\n",
       "106716           GROCERY I  1032       False\n",
       "108079           GROCERY I  1030       False\n",
       "108634           GROCERY I  1075       False\n",
       "108696                DELI  2636        True\n",
       "108698                DELI  2644        True\n",
       "108701                DELI  2644        True\n",
       "108786            CLEANING  3044       False\n",
       "108797           GROCERY I  1004       False\n",
       "108831             POULTRY  2416        True\n",
       "108833                EGGS  2502        True\n",
       "108862           GROCERY I  1062       False\n",
       "108952            CLEANING  3024       False\n",
       "111223           GROCERY I  1034       False\n",
       "111397           GROCERY I  1072       False\n",
       "112830           GROCERY I  1044       False\n",
       "114778           GROCERY I  1016       False\n",
       "114790           GROCERY I  1004       False\n",
       "114799       PERSONAL CARE  4126       False\n",
       "...                    ...   ...         ...\n",
       "2127992          GROCERY I  1028       False\n",
       "2128628          BEVERAGES  1122       False\n",
       "2128799          BEVERAGES  1148       False\n",
       "2129334          GROCERY I  1086       False\n",
       "2129350          GROCERY I  1086       False\n",
       "2129387          GROCERY I  1068       False\n",
       "2129515          GROCERY I  1042       False\n",
       "2129616          BEVERAGES  1124       False\n",
       "2129678          GROCERY I  1030       False\n",
       "2129786          GROCERY I  1016       False\n",
       "2129790          GROCERY I  1094       False\n",
       "2129892          GROCERY I  1092       False\n",
       "2129994          GROCERY I  1092       False\n",
       "2130131          GROCERY I  1092       False\n",
       "2130219          GROCERY I  1094       False\n",
       "2130265          GROCERY I  1094       False\n",
       "2130352          GROCERY I  1094       False\n",
       "2130474          GROCERY I  1064       False\n",
       "2130521          GROCERY I  1040       False\n",
       "2130526          GROCERY I  1030       False\n",
       "2130553   LIQUOR,WINE,BEER  1318       False\n",
       "2131010   LIQUOR,WINE,BEER  1328       False\n",
       "2131572          GROCERY I  1002       False\n",
       "2131699          GROCERY I  1002       False\n",
       "2132163          GROCERY I  1040       False\n",
       "2132318          GROCERY I  1002       False\n",
       "2132945          GROCERY I  1026       False\n",
       "2132957          GROCERY I  1068       False\n",
       "2134058          BEVERAGES  1124       False\n",
       "2134244   LIQUOR,WINE,BEER  1364       False\n",
       "\n",
       "[4100 rows x 3 columns]"
      ]
     },
     "execution_count": 56,
     "metadata": {},
     "output_type": "execute_result"
    }
   ],
   "source": [
    "items"
   ]
  },
  {
   "cell_type": "code",
   "execution_count": 57,
   "metadata": {},
   "outputs": [
    {
     "data": {
      "text/html": [
       "<div>\n",
       "<style>\n",
       "    .dataframe thead tr:only-child th {\n",
       "        text-align: right;\n",
       "    }\n",
       "\n",
       "    .dataframe thead th {\n",
       "        text-align: left;\n",
       "    }\n",
       "\n",
       "    .dataframe tbody tr th {\n",
       "        vertical-align: top;\n",
       "    }\n",
       "</style>\n",
       "<table border=\"1\" class=\"dataframe\">\n",
       "  <thead>\n",
       "    <tr style=\"text-align: right;\">\n",
       "      <th></th>\n",
       "      <th>date</th>\n",
       "      <th>dow</th>\n",
       "      <th>id</th>\n",
       "      <th>item_nbr</th>\n",
       "      <th>onpromotion</th>\n",
       "      <th>store_nbr</th>\n",
       "      <th>unit_sales</th>\n",
       "      <th>family</th>\n",
       "      <th>class</th>\n",
       "      <th>perishable</th>\n",
       "      <th>city</th>\n",
       "      <th>state</th>\n",
       "      <th>type</th>\n",
       "      <th>cluster</th>\n",
       "      <th>dcoilwtico</th>\n",
       "    </tr>\n",
       "  </thead>\n",
       "  <tbody>\n",
       "    <tr>\n",
       "      <th>23369830</th>\n",
       "      <td>2017-08-11</td>\n",
       "      <td>4.0</td>\n",
       "      <td>124975583</td>\n",
       "      <td>103520</td>\n",
       "      <td>False</td>\n",
       "      <td>0</td>\n",
       "      <td>0.693147</td>\n",
       "      <td>12</td>\n",
       "      <td>17</td>\n",
       "      <td>False</td>\n",
       "      <td>18</td>\n",
       "      <td>12</td>\n",
       "      <td>3</td>\n",
       "      <td>4</td>\n",
       "      <td>48.810001</td>\n",
       "    </tr>\n",
       "    <tr>\n",
       "      <th>23369831</th>\n",
       "      <td>2017-08-11</td>\n",
       "      <td>4.0</td>\n",
       "      <td>124975584</td>\n",
       "      <td>103665</td>\n",
       "      <td>False</td>\n",
       "      <td>0</td>\n",
       "      <td>1.098612</td>\n",
       "      <td>5</td>\n",
       "      <td>187</td>\n",
       "      <td>True</td>\n",
       "      <td>18</td>\n",
       "      <td>12</td>\n",
       "      <td>3</td>\n",
       "      <td>4</td>\n",
       "      <td>48.810001</td>\n",
       "    </tr>\n",
       "    <tr>\n",
       "      <th>23369832</th>\n",
       "      <td>2017-08-11</td>\n",
       "      <td>4.0</td>\n",
       "      <td>124975585</td>\n",
       "      <td>105574</td>\n",
       "      <td>False</td>\n",
       "      <td>0</td>\n",
       "      <td>1.791759</td>\n",
       "      <td>12</td>\n",
       "      <td>31</td>\n",
       "      <td>False</td>\n",
       "      <td>18</td>\n",
       "      <td>12</td>\n",
       "      <td>3</td>\n",
       "      <td>4</td>\n",
       "      <td>48.810001</td>\n",
       "    </tr>\n",
       "    <tr>\n",
       "      <th>23369833</th>\n",
       "      <td>2017-08-11</td>\n",
       "      <td>4.0</td>\n",
       "      <td>124975586</td>\n",
       "      <td>105575</td>\n",
       "      <td>False</td>\n",
       "      <td>0</td>\n",
       "      <td>2.079442</td>\n",
       "      <td>12</td>\n",
       "      <td>31</td>\n",
       "      <td>False</td>\n",
       "      <td>18</td>\n",
       "      <td>12</td>\n",
       "      <td>3</td>\n",
       "      <td>4</td>\n",
       "      <td>48.810001</td>\n",
       "    </tr>\n",
       "    <tr>\n",
       "      <th>23369834</th>\n",
       "      <td>2017-08-11</td>\n",
       "      <td>4.0</td>\n",
       "      <td>124975587</td>\n",
       "      <td>105857</td>\n",
       "      <td>False</td>\n",
       "      <td>0</td>\n",
       "      <td>0.693147</td>\n",
       "      <td>12</td>\n",
       "      <td>63</td>\n",
       "      <td>False</td>\n",
       "      <td>18</td>\n",
       "      <td>12</td>\n",
       "      <td>3</td>\n",
       "      <td>4</td>\n",
       "      <td>48.810001</td>\n",
       "    </tr>\n",
       "  </tbody>\n",
       "</table>\n",
       "</div>"
      ],
      "text/plain": [
       "               date  dow         id item_nbr onpromotion  store_nbr  \\\n",
       "23369830 2017-08-11  4.0  124975583   103520       False          0   \n",
       "23369831 2017-08-11  4.0  124975584   103665       False          0   \n",
       "23369832 2017-08-11  4.0  124975585   105574       False          0   \n",
       "23369833 2017-08-11  4.0  124975586   105575       False          0   \n",
       "23369834 2017-08-11  4.0  124975587   105857       False          0   \n",
       "\n",
       "          unit_sales  family  class  perishable  city  state  type  cluster  \\\n",
       "23369830    0.693147      12     17       False    18     12     3        4   \n",
       "23369831    1.098612       5    187        True    18     12     3        4   \n",
       "23369832    1.791759      12     31       False    18     12     3        4   \n",
       "23369833    2.079442      12     31       False    18     12     3        4   \n",
       "23369834    0.693147      12     63       False    18     12     3        4   \n",
       "\n",
       "          dcoilwtico  \n",
       "23369830   48.810001  \n",
       "23369831   48.810001  \n",
       "23369832   48.810001  \n",
       "23369833   48.810001  \n",
       "23369834   48.810001  "
      ]
     },
     "execution_count": 57,
     "metadata": {},
     "output_type": "execute_result"
    }
   ],
   "source": [
    "dff_eval.head()"
   ]
  },
  {
   "cell_type": "code",
   "execution_count": 58,
   "metadata": {},
   "outputs": [
    {
     "name": "stdout",
     "output_type": "stream",
     "text": [
      "0.816877868132 0.829333124677\n",
      "0.816883343213 0.829333114877\n",
      "0.816883343134 0.829333114877\n",
      "0.81688334234 0.829333114877\n",
      "0.816883334397 0.829333114877\n",
      "0.816883254973 0.829333114882\n",
      "0.816882461318 0.829333115402\n",
      "0.816874582771 0.829333167247\n",
      "0.816801414899 0.829338179896\n"
     ]
    },
    {
     "data": {
      "text/plain": [
       "(0.81680141489866609, 0.82933817989612812)"
      ]
     },
     "execution_count": 58,
     "metadata": {},
     "output_type": "execute_result"
    }
   ],
   "source": [
    "from sklearn import *\n",
    "import varie\n",
    "varie.test(dff_train,dff_eval, linear_model.LinearRegression(),\"unit_sales\",drop=[\"date\",\"id\",'item_nbr'])\n",
    "\n",
    "varie.test(dff_train,dff_eval, linear_model.Ridge(alpha=0.001),\"unit_sales\",drop=[\"date\",\"id\",'item_nbr'])\n",
    "varie.test(dff_train,dff_eval, linear_model.Ridge(alpha=0.01),\"unit_sales\",drop=[\"date\",\"id\",'item_nbr'])\n",
    "varie.test(dff_train,dff_eval, linear_model.Ridge(alpha=0.1),\"unit_sales\",drop=[\"date\",\"id\",'item_nbr'])\n",
    "varie.test(dff_train,dff_eval, linear_model.Ridge(alpha=1),\"unit_sales\",drop=[\"date\",\"id\",'item_nbr'])\n",
    "varie.test(dff_train,dff_eval, linear_model.Ridge(alpha=10),\"unit_sales\",drop=[\"date\",\"id\",'item_nbr'])\n",
    "varie.test(dff_train,dff_eval, linear_model.Ridge(alpha=100),\"unit_sales\",drop=[\"date\",\"id\",'item_nbr'])\n",
    "varie.test(dff_train,dff_eval, linear_model.Ridge(alpha=1000),\"unit_sales\",drop=[\"date\",\"id\",'item_nbr'])\n",
    "varie.test(dff_train,dff_eval, linear_model.Ridge(alpha=10000),\"unit_sales\",drop=[\"date\",\"id\",'item_nbr'])\n",
    "\n"
   ]
  },
  {
   "cell_type": "code",
   "execution_count": 59,
   "metadata": {},
   "outputs": [
    {
     "name": "stdout",
     "output_type": "stream",
     "text": [
      "PredefinedSplit(test_fold=array([-1, -1, ...,  0,  0]))\n",
      "4332672 521457\n",
      "[      0       1       2 ..., 4332669 4332670 4332671] [4332672 4332673 4332674 ..., 4854126 4854127 4854128]\n"
     ]
    }
   ],
   "source": [
    "from sklearn.model_selection import PredefinedSplit\n",
    "test_fold=np.append(-np.ones(len(dff_train)),np.zeros(len(dff_eval)))\n",
    "ps = PredefinedSplit(test_fold)\n",
    "ps.get_n_splits()\n",
    "print(ps)       \n",
    "for train_index, test_index in ps.split():\n",
    "    print(len(train_index),len(test_index))\n",
    "    #print(len(df_train),len(df_test))\n",
    "    print(train_index,test_index)\n"
   ]
  },
  {
   "cell_type": "code",
   "execution_count": 60,
   "metadata": {},
   "outputs": [
    {
     "name": "stdout",
     "output_type": "stream",
     "text": [
      "test dow\n",
      "test unit_sales\n"
     ]
    }
   ],
   "source": [
    "for c in dff_train.columns:\n",
    "    if (dff_train[c].isnull().any()): print('train',c)\n",
    "for c in dff_eval.columns:\n",
    "    if (dff_eval[c].isnull().any()): print('eval',c)\n",
    "for c in dff_test.columns:\n",
    "    if (dff_test[c].isnull().any()): print('test',c)"
   ]
  },
  {
   "cell_type": "code",
   "execution_count": 61,
   "metadata": {},
   "outputs": [
    {
     "name": "stdout",
     "output_type": "stream",
     "text": [
      "(4854129, 11) (4854129,)\n"
     ]
    },
    {
     "ename": "ValueError",
     "evalue": "Input contains NaN, infinity or a value too large for dtype('float64').",
     "output_type": "error",
     "traceback": [
      "\u001b[1;31m---------------------------------------------------------------------------\u001b[0m",
      "\u001b[1;31mValueError\u001b[0m                                Traceback (most recent call last)",
      "\u001b[1;32m<ipython-input-61-039b9e57ce72>\u001b[0m in \u001b[0;36m<module>\u001b[1;34m()\u001b[0m\n\u001b[0;32m      2\u001b[0m \u001b[1;33m\u001b[0m\u001b[0m\n\u001b[0;32m      3\u001b[0m varie.make_csv(dff_train,dff_eval,dff_test,linear_model.LinearRegression(),\n\u001b[1;32m----> 4\u001b[1;33m                \"unit_sales\",\"linear.csv\",drop=[\"date\",\"id\",'item_nbr'],columns=[\"id\",\"unit_sales\"])\n\u001b[0m",
      "\u001b[1;32m~\\Desktop\\kaggle_varie\\varie.py\u001b[0m in \u001b[0;36mmake_csv\u001b[1;34m(df_train, df_eval, df_test, regr, y, file, drop, columns)\u001b[0m\n\u001b[0;32m     60\u001b[0m     \u001b[0mprint\u001b[0m\u001b[1;33m(\u001b[0m\u001b[0mX_train\u001b[0m\u001b[1;33m.\u001b[0m\u001b[0mshape\u001b[0m\u001b[1;33m,\u001b[0m\u001b[0my_train\u001b[0m\u001b[1;33m.\u001b[0m\u001b[0mshape\u001b[0m\u001b[1;33m)\u001b[0m\u001b[1;33m\u001b[0m\u001b[0m\n\u001b[0;32m     61\u001b[0m     \u001b[0mregr\u001b[0m\u001b[1;33m.\u001b[0m\u001b[0mfit\u001b[0m\u001b[1;33m(\u001b[0m\u001b[0mX_train\u001b[0m\u001b[1;33m,\u001b[0m \u001b[0my_train\u001b[0m\u001b[1;33m)\u001b[0m\u001b[1;33m\u001b[0m\u001b[0m\n\u001b[1;32m---> 62\u001b[1;33m     \u001b[0my_pred\u001b[0m \u001b[1;33m=\u001b[0m \u001b[0mregr\u001b[0m\u001b[1;33m.\u001b[0m\u001b[0mpredict\u001b[0m\u001b[1;33m(\u001b[0m\u001b[0mX_test\u001b[0m\u001b[1;33m)\u001b[0m\u001b[1;33m\u001b[0m\u001b[0m\n\u001b[0m\u001b[0;32m     63\u001b[0m     \u001b[0my_pred\u001b[0m\u001b[1;33m=\u001b[0m\u001b[0mnp\u001b[0m\u001b[1;33m.\u001b[0m\u001b[0mmaximum\u001b[0m\u001b[1;33m(\u001b[0m\u001b[1;36m0\u001b[0m\u001b[1;33m,\u001b[0m\u001b[0my_pred\u001b[0m\u001b[1;33m)\u001b[0m\u001b[1;33m\u001b[0m\u001b[0m\n\u001b[0;32m     64\u001b[0m     \u001b[0my_pred\u001b[0m\u001b[1;33m=\u001b[0m\u001b[0mnp\u001b[0m\u001b[1;33m.\u001b[0m\u001b[0mexpm1\u001b[0m\u001b[1;33m(\u001b[0m\u001b[0my_pred\u001b[0m\u001b[1;33m)\u001b[0m\u001b[1;33m\u001b[0m\u001b[0m\n",
      "\u001b[1;32mC:\\ProgramData\\Anaconda3\\lib\\site-packages\\sklearn\\linear_model\\base.py\u001b[0m in \u001b[0;36mpredict\u001b[1;34m(self, X)\u001b[0m\n\u001b[0;32m    266\u001b[0m             \u001b[0mReturns\u001b[0m \u001b[0mpredicted\u001b[0m \u001b[0mvalues\u001b[0m\u001b[1;33m.\u001b[0m\u001b[1;33m\u001b[0m\u001b[0m\n\u001b[0;32m    267\u001b[0m         \"\"\"\n\u001b[1;32m--> 268\u001b[1;33m         \u001b[1;32mreturn\u001b[0m \u001b[0mself\u001b[0m\u001b[1;33m.\u001b[0m\u001b[0m_decision_function\u001b[0m\u001b[1;33m(\u001b[0m\u001b[0mX\u001b[0m\u001b[1;33m)\u001b[0m\u001b[1;33m\u001b[0m\u001b[0m\n\u001b[0m\u001b[0;32m    269\u001b[0m \u001b[1;33m\u001b[0m\u001b[0m\n\u001b[0;32m    270\u001b[0m     \u001b[0m_preprocess_data\u001b[0m \u001b[1;33m=\u001b[0m \u001b[0mstaticmethod\u001b[0m\u001b[1;33m(\u001b[0m\u001b[0m_preprocess_data\u001b[0m\u001b[1;33m)\u001b[0m\u001b[1;33m\u001b[0m\u001b[0m\n",
      "\u001b[1;32mC:\\ProgramData\\Anaconda3\\lib\\site-packages\\sklearn\\linear_model\\base.py\u001b[0m in \u001b[0;36m_decision_function\u001b[1;34m(self, X)\u001b[0m\n\u001b[0;32m    249\u001b[0m         \u001b[0mcheck_is_fitted\u001b[0m\u001b[1;33m(\u001b[0m\u001b[0mself\u001b[0m\u001b[1;33m,\u001b[0m \u001b[1;34m\"coef_\"\u001b[0m\u001b[1;33m)\u001b[0m\u001b[1;33m\u001b[0m\u001b[0m\n\u001b[0;32m    250\u001b[0m \u001b[1;33m\u001b[0m\u001b[0m\n\u001b[1;32m--> 251\u001b[1;33m         \u001b[0mX\u001b[0m \u001b[1;33m=\u001b[0m \u001b[0mcheck_array\u001b[0m\u001b[1;33m(\u001b[0m\u001b[0mX\u001b[0m\u001b[1;33m,\u001b[0m \u001b[0maccept_sparse\u001b[0m\u001b[1;33m=\u001b[0m\u001b[1;33m[\u001b[0m\u001b[1;34m'csr'\u001b[0m\u001b[1;33m,\u001b[0m \u001b[1;34m'csc'\u001b[0m\u001b[1;33m,\u001b[0m \u001b[1;34m'coo'\u001b[0m\u001b[1;33m]\u001b[0m\u001b[1;33m)\u001b[0m\u001b[1;33m\u001b[0m\u001b[0m\n\u001b[0m\u001b[0;32m    252\u001b[0m         return safe_sparse_dot(X, self.coef_.T,\n\u001b[0;32m    253\u001b[0m                                dense_output=True) + self.intercept_\n",
      "\u001b[1;32mC:\\ProgramData\\Anaconda3\\lib\\site-packages\\sklearn\\utils\\validation.py\u001b[0m in \u001b[0;36mcheck_array\u001b[1;34m(array, accept_sparse, dtype, order, copy, force_all_finite, ensure_2d, allow_nd, ensure_min_samples, ensure_min_features, warn_on_dtype, estimator)\u001b[0m\n\u001b[0;32m    405\u001b[0m                              % (array.ndim, estimator_name))\n\u001b[0;32m    406\u001b[0m         \u001b[1;32mif\u001b[0m \u001b[0mforce_all_finite\u001b[0m\u001b[1;33m:\u001b[0m\u001b[1;33m\u001b[0m\u001b[0m\n\u001b[1;32m--> 407\u001b[1;33m             \u001b[0m_assert_all_finite\u001b[0m\u001b[1;33m(\u001b[0m\u001b[0marray\u001b[0m\u001b[1;33m)\u001b[0m\u001b[1;33m\u001b[0m\u001b[0m\n\u001b[0m\u001b[0;32m    408\u001b[0m \u001b[1;33m\u001b[0m\u001b[0m\n\u001b[0;32m    409\u001b[0m     \u001b[0mshape_repr\u001b[0m \u001b[1;33m=\u001b[0m \u001b[0m_shape_repr\u001b[0m\u001b[1;33m(\u001b[0m\u001b[0marray\u001b[0m\u001b[1;33m.\u001b[0m\u001b[0mshape\u001b[0m\u001b[1;33m)\u001b[0m\u001b[1;33m\u001b[0m\u001b[0m\n",
      "\u001b[1;32mC:\\ProgramData\\Anaconda3\\lib\\site-packages\\sklearn\\utils\\validation.py\u001b[0m in \u001b[0;36m_assert_all_finite\u001b[1;34m(X)\u001b[0m\n\u001b[0;32m     56\u001b[0m             and not np.isfinite(X).all()):\n\u001b[0;32m     57\u001b[0m         raise ValueError(\"Input contains NaN, infinity\"\n\u001b[1;32m---> 58\u001b[1;33m                          \" or a value too large for %r.\" % X.dtype)\n\u001b[0m\u001b[0;32m     59\u001b[0m \u001b[1;33m\u001b[0m\u001b[0m\n\u001b[0;32m     60\u001b[0m \u001b[1;33m\u001b[0m\u001b[0m\n",
      "\u001b[1;31mValueError\u001b[0m: Input contains NaN, infinity or a value too large for dtype('float64')."
     ]
    }
   ],
   "source": [
    "import varie\n",
    "\n",
    "varie.make_csv(dff_train,dff_eval,dff_test,linear_model.LinearRegression(),\n",
    "               \"unit_sales\",\"linear.csv\",drop=[\"date\",\"id\",'item_nbr'],columns=[\"id\",\"unit_sales\"])"
   ]
  },
  {
   "cell_type": "code",
   "execution_count": null,
   "metadata": {},
   "outputs": [],
   "source": [
    "import scipy\n",
    "from  sklearn.model_selection import RandomizedSearchCV\n",
    "from sklearn import *\n",
    "grid=RandomizedSearchCV(ensemble.RandomForestRegressor(), \n",
    "                                        param_distributions=\n",
    "                        {\"max_depth\": scipy.stats.randint(1,100), \n",
    "                         'n_estimators': scipy.stats.randint(10,300),\n",
    "                        'max_features':('log2','sqrt')},\n",
    "                                        n_iter=30,verbose=10,cv=ps,scoring=\"neg_mean_squared_error\" )\n",
    "\n",
    "(X_train,X_test,y_train,y_test) = varie.xy_train_test(dff_train,dff_eval,'unit_sales',\n",
    "                                                      drop=[\"date\",\"id\",'item_nbr'])\n",
    "X_tot=np.append(X_train,X_test,axis=0)\n",
    "y_tot=np.append(y_train,y_test,axis=0)\n",
    "\n",
    "grid.fit(X_tot,y_tot)"
   ]
  },
  {
   "cell_type": "code",
   "execution_count": null,
   "metadata": {
    "collapsed": true
   },
   "outputs": [],
   "source": [
    "grid.best_params_"
   ]
  },
  {
   "cell_type": "code",
   "execution_count": null,
   "metadata": {
    "collapsed": true
   },
   "outputs": [],
   "source": [
    "from sklearn import *\n",
    "\n",
    "varie.make_csv(dff_train,dff_eval,dff_test,ensemble.RandomForestRegressor(max_depth= 20,max_features= 'log2',n_estimators= 250),\n",
    "               \"unit_sales\",\"rf.csv\",drop=[\"date\",\"id\",'item_nbr'],columns=[\"id\",\"unit_sales\"])\n",
    "#varie.make_csv(dff_train,dff_eval,dff_test,ensemble.RandomForestRegressor(max_depth= 15,max_features= 'log2',n_estimators= 244),\n",
    "#               \"unit_sales\",\"rf.csv\",drop=[\"date\",\"id\",'item_nbr','store_nbr'],columns=[\"id\",\"unit_sales\"])"
   ]
  },
  {
   "cell_type": "raw",
   "metadata": {
    "scrolled": false
   },
   "source": [
    "# Improved with the suggestion from Paulo Pinto\n",
    "u_dates = df_train.date.unique()\n",
    "u_stores = df_train.store_nbr.unique()\n",
    "u_items = df_train.item_nbr.unique()\n",
    "df_train.set_index([\"date\", \"store_nbr\", \"item_nbr\"], inplace=True)\n",
    "df_train = df_train.reindex(\n",
    "    pd.MultiIndex.from_product(\n",
    "        (u_dates, u_stores, u_items),\n",
    "        names=[\"date\", \"store_nbr\", \"item_nbr\"]\n",
    "    )\n",
    ")\n"
   ]
  },
  {
   "cell_type": "raw",
   "metadata": {
    "collapsed": true
   },
   "source": [
    "print(len(df_train))\n",
    "df_train.head()\n"
   ]
  },
  {
   "cell_type": "raw",
   "metadata": {
    "collapsed": true
   },
   "source": [
    "# Fill NAs\n",
    "df_train.loc[:, \"unit_sales\"].fillna(0, inplace=True)\n",
    "# Assume missing entris imply no promotion\n",
    "df_train.loc[:, \"onpromotion\"].fillna(\"False\", inplace=True)"
   ]
  },
  {
   "cell_type": "raw",
   "metadata": {
    "collapsed": true
   },
   "source": [
    "# Calculate means \n",
    "df_train = df_train.groupby(\n",
    "    ['item_nbr', 'store_nbr', 'onpromotion']\n",
    ")['unit_sales'].mean().to_frame('unit_sales')\n",
    "# Inverse transform\n",
    "df_train[\"unit_sales\"] = df_train[\"unit_sales\"].apply(np.expm1)\n",
    "\n"
   ]
  },
  {
   "cell_type": "raw",
   "metadata": {
    "collapsed": true
   },
   "source": [
    "df_train.head()"
   ]
  },
  {
   "cell_type": "raw",
   "metadata": {
    "collapsed": true
   },
   "source": [
    "len(df_train)"
   ]
  },
  {
   "cell_type": "raw",
   "metadata": {
    "collapsed": true
   },
   "source": [
    "# Create submission\n",
    "pd.read_csv(\n",
    "    \"./input/test.csv\", usecols=[0, 2, 3, 4], dtype={'onpromotion': str}\n",
    ").set_index(\n",
    "    ['item_nbr', 'store_nbr', 'onpromotion']\n",
    ").join(\n",
    "    df_train, how='left'\n",
    ").fillna(0).to_csv(\n",
    "    'mean.csv.gz', float_format='%.2f', index=None, compression=\"gzip\"\n",
    ")"
   ]
  }
 ],
 "metadata": {
  "kernelspec": {
   "display_name": "Python 3",
   "language": "python",
   "name": "python3"
  },
  "language_info": {
   "codemirror_mode": {
    "name": "ipython",
    "version": 3
   },
   "file_extension": ".py",
   "mimetype": "text/x-python",
   "name": "python",
   "nbconvert_exporter": "python",
   "pygments_lexer": "ipython3",
   "version": "3.6.1"
  }
 },
 "nbformat": 4,
 "nbformat_minor": 2
}
